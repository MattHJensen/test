{
 "cells": [
  {
   "cell_type": "code",
   "execution_count": 46,
   "metadata": {},
   "outputs": [
    {
     "data": {
      "text/html": [
       "\n",
       "    <div class=\"bk-root\">\n",
       "        <a href=\"https://bokeh.pydata.org\" target=\"_blank\" class=\"bk-logo bk-logo-small bk-logo-notebook\"></a>\n",
       "        <span id=\"ef316100-8c11-45b5-ab66-96c15b21846f\">Loading BokehJS ...</span>\n",
       "    </div>"
      ]
     },
     "metadata": {},
     "output_type": "display_data"
    },
    {
     "data": {
      "application/javascript": [
       "\n",
       "(function(root) {\n",
       "  function now() {\n",
       "    return new Date();\n",
       "  }\n",
       "\n",
       "  var force = true;\n",
       "\n",
       "  if (typeof (root._bokeh_onload_callbacks) === \"undefined\" || force === true) {\n",
       "    root._bokeh_onload_callbacks = [];\n",
       "    root._bokeh_is_loading = undefined;\n",
       "  }\n",
       "\n",
       "  var JS_MIME_TYPE = 'application/javascript';\n",
       "  var HTML_MIME_TYPE = 'text/html';\n",
       "  var EXEC_MIME_TYPE = 'application/vnd.bokehjs_exec.v0+json';\n",
       "  var CLASS_NAME = 'output_bokeh rendered_html';\n",
       "\n",
       "  /**\n",
       "   * Render data to the DOM node\n",
       "   */\n",
       "  function render(props, node) {\n",
       "    var script = document.createElement(\"script\");\n",
       "    node.appendChild(script);\n",
       "  }\n",
       "\n",
       "  /**\n",
       "   * Handle when an output is cleared or removed\n",
       "   */\n",
       "  function handleClearOutput(event, handle) {\n",
       "    var cell = handle.cell;\n",
       "\n",
       "    var id = cell.output_area._bokeh_element_id;\n",
       "    var server_id = cell.output_area._bokeh_server_id;\n",
       "    // Clean up Bokeh references\n",
       "    if (id !== undefined) {\n",
       "      Bokeh.index[id].model.document.clear();\n",
       "      delete Bokeh.index[id];\n",
       "    }\n",
       "\n",
       "    if (server_id !== undefined) {\n",
       "      // Clean up Bokeh references\n",
       "      var cmd = \"from bokeh.io.state import curstate; print(curstate().uuid_to_server['\" + server_id + \"'].get_sessions()[0].document.roots[0]._id)\";\n",
       "      cell.notebook.kernel.execute(cmd, {\n",
       "        iopub: {\n",
       "          output: function(msg) {\n",
       "            var element_id = msg.content.text.trim();\n",
       "            Bokeh.index[element_id].model.document.clear();\n",
       "            delete Bokeh.index[element_id];\n",
       "          }\n",
       "        }\n",
       "      });\n",
       "      // Destroy server and session\n",
       "      var cmd = \"import bokeh.io.notebook as ion; ion.destroy_server('\" + server_id + \"')\";\n",
       "      cell.notebook.kernel.execute(cmd);\n",
       "    }\n",
       "  }\n",
       "\n",
       "  /**\n",
       "   * Handle when a new output is added\n",
       "   */\n",
       "  function handleAddOutput(event, handle) {\n",
       "    var output_area = handle.output_area;\n",
       "    var output = handle.output;\n",
       "\n",
       "    // limit handleAddOutput to display_data with EXEC_MIME_TYPE content only\n",
       "    if ((output.output_type != \"display_data\") || (!output.data.hasOwnProperty(EXEC_MIME_TYPE))) {\n",
       "      return\n",
       "    }\n",
       "\n",
       "    var toinsert = output_area.element.find(\".\" + CLASS_NAME.split(' ')[0]);\n",
       "\n",
       "    if (output.metadata[EXEC_MIME_TYPE][\"id\"] !== undefined) {\n",
       "      toinsert[0].firstChild.textContent = output.data[JS_MIME_TYPE];\n",
       "      // store reference to embed id on output_area\n",
       "      output_area._bokeh_element_id = output.metadata[EXEC_MIME_TYPE][\"id\"];\n",
       "    }\n",
       "    if (output.metadata[EXEC_MIME_TYPE][\"server_id\"] !== undefined) {\n",
       "      var bk_div = document.createElement(\"div\");\n",
       "      bk_div.innerHTML = output.data[HTML_MIME_TYPE];\n",
       "      var script_attrs = bk_div.children[0].attributes;\n",
       "      for (var i = 0; i < script_attrs.length; i++) {\n",
       "        toinsert[0].firstChild.setAttribute(script_attrs[i].name, script_attrs[i].value);\n",
       "      }\n",
       "      // store reference to server id on output_area\n",
       "      output_area._bokeh_server_id = output.metadata[EXEC_MIME_TYPE][\"server_id\"];\n",
       "    }\n",
       "  }\n",
       "\n",
       "  function register_renderer(events, OutputArea) {\n",
       "\n",
       "    function append_mime(data, metadata, element) {\n",
       "      // create a DOM node to render to\n",
       "      var toinsert = this.create_output_subarea(\n",
       "        metadata,\n",
       "        CLASS_NAME,\n",
       "        EXEC_MIME_TYPE\n",
       "      );\n",
       "      this.keyboard_manager.register_events(toinsert);\n",
       "      // Render to node\n",
       "      var props = {data: data, metadata: metadata[EXEC_MIME_TYPE]};\n",
       "      render(props, toinsert[0]);\n",
       "      element.append(toinsert);\n",
       "      return toinsert\n",
       "    }\n",
       "\n",
       "    /* Handle when an output is cleared or removed */\n",
       "    events.on('clear_output.CodeCell', handleClearOutput);\n",
       "    events.on('delete.Cell', handleClearOutput);\n",
       "\n",
       "    /* Handle when a new output is added */\n",
       "    events.on('output_added.OutputArea', handleAddOutput);\n",
       "\n",
       "    /**\n",
       "     * Register the mime type and append_mime function with output_area\n",
       "     */\n",
       "    OutputArea.prototype.register_mime_type(EXEC_MIME_TYPE, append_mime, {\n",
       "      /* Is output safe? */\n",
       "      safe: true,\n",
       "      /* Index of renderer in `output_area.display_order` */\n",
       "      index: 0\n",
       "    });\n",
       "  }\n",
       "\n",
       "  // register the mime type if in Jupyter Notebook environment and previously unregistered\n",
       "  if (root.Jupyter !== undefined) {\n",
       "    var events = require('base/js/events');\n",
       "    var OutputArea = require('notebook/js/outputarea').OutputArea;\n",
       "\n",
       "    if (OutputArea.prototype.mime_types().indexOf(EXEC_MIME_TYPE) == -1) {\n",
       "      register_renderer(events, OutputArea);\n",
       "    }\n",
       "  }\n",
       "\n",
       "  \n",
       "  if (typeof (root._bokeh_timeout) === \"undefined\" || force === true) {\n",
       "    root._bokeh_timeout = Date.now() + 5000;\n",
       "    root._bokeh_failed_load = false;\n",
       "  }\n",
       "\n",
       "  var NB_LOAD_WARNING = {'data': {'text/html':\n",
       "     \"<div style='background-color: #fdd'>\\n\"+\n",
       "     \"<p>\\n\"+\n",
       "     \"BokehJS does not appear to have successfully loaded. If loading BokehJS from CDN, this \\n\"+\n",
       "     \"may be due to a slow or bad network connection. Possible fixes:\\n\"+\n",
       "     \"</p>\\n\"+\n",
       "     \"<ul>\\n\"+\n",
       "     \"<li>re-rerun `output_notebook()` to attempt to load from CDN again, or</li>\\n\"+\n",
       "     \"<li>use INLINE resources instead, as so:</li>\\n\"+\n",
       "     \"</ul>\\n\"+\n",
       "     \"<code>\\n\"+\n",
       "     \"from bokeh.resources import INLINE\\n\"+\n",
       "     \"output_notebook(resources=INLINE)\\n\"+\n",
       "     \"</code>\\n\"+\n",
       "     \"</div>\"}};\n",
       "\n",
       "  function display_loaded() {\n",
       "    var el = document.getElementById(\"ef316100-8c11-45b5-ab66-96c15b21846f\");\n",
       "    if (el != null) {\n",
       "      el.textContent = \"BokehJS is loading...\";\n",
       "    }\n",
       "    if (root.Bokeh !== undefined) {\n",
       "      if (el != null) {\n",
       "        el.textContent = \"BokehJS \" + root.Bokeh.version + \" successfully loaded.\";\n",
       "      }\n",
       "    } else if (Date.now() < root._bokeh_timeout) {\n",
       "      setTimeout(display_loaded, 100)\n",
       "    }\n",
       "  }\n",
       "\n",
       "\n",
       "  function run_callbacks() {\n",
       "    try {\n",
       "      root._bokeh_onload_callbacks.forEach(function(callback) { callback() });\n",
       "    }\n",
       "    finally {\n",
       "      delete root._bokeh_onload_callbacks\n",
       "    }\n",
       "    console.info(\"Bokeh: all callbacks have finished\");\n",
       "  }\n",
       "\n",
       "  function load_libs(js_urls, callback) {\n",
       "    root._bokeh_onload_callbacks.push(callback);\n",
       "    if (root._bokeh_is_loading > 0) {\n",
       "      console.log(\"Bokeh: BokehJS is being loaded, scheduling callback at\", now());\n",
       "      return null;\n",
       "    }\n",
       "    if (js_urls == null || js_urls.length === 0) {\n",
       "      run_callbacks();\n",
       "      return null;\n",
       "    }\n",
       "    console.log(\"Bokeh: BokehJS not loaded, scheduling load and callback at\", now());\n",
       "    root._bokeh_is_loading = js_urls.length;\n",
       "    for (var i = 0; i < js_urls.length; i++) {\n",
       "      var url = js_urls[i];\n",
       "      var s = document.createElement('script');\n",
       "      s.src = url;\n",
       "      s.async = false;\n",
       "      s.onreadystatechange = s.onload = function() {\n",
       "        root._bokeh_is_loading--;\n",
       "        if (root._bokeh_is_loading === 0) {\n",
       "          console.log(\"Bokeh: all BokehJS libraries loaded\");\n",
       "          run_callbacks()\n",
       "        }\n",
       "      };\n",
       "      s.onerror = function() {\n",
       "        console.warn(\"failed to load library \" + url);\n",
       "      };\n",
       "      console.log(\"Bokeh: injecting script tag for BokehJS library: \", url);\n",
       "      document.getElementsByTagName(\"head\")[0].appendChild(s);\n",
       "    }\n",
       "  };var element = document.getElementById(\"ef316100-8c11-45b5-ab66-96c15b21846f\");\n",
       "  if (element == null) {\n",
       "    console.log(\"Bokeh: ERROR: autoload.js configured with elementid 'ef316100-8c11-45b5-ab66-96c15b21846f' but no matching script tag was found. \")\n",
       "    return false;\n",
       "  }\n",
       "\n",
       "  var js_urls = [\"https://cdn.pydata.org/bokeh/release/bokeh-0.12.14.min.js\", \"https://cdn.pydata.org/bokeh/release/bokeh-widgets-0.12.14.min.js\", \"https://cdn.pydata.org/bokeh/release/bokeh-tables-0.12.14.min.js\", \"https://cdn.pydata.org/bokeh/release/bokeh-gl-0.12.14.min.js\"];\n",
       "\n",
       "  var inline_js = [\n",
       "    function(Bokeh) {\n",
       "      Bokeh.set_log_level(\"info\");\n",
       "    },\n",
       "    \n",
       "    function(Bokeh) {\n",
       "      \n",
       "    },\n",
       "    function(Bokeh) {\n",
       "      console.log(\"Bokeh: injecting CSS: https://cdn.pydata.org/bokeh/release/bokeh-0.12.14.min.css\");\n",
       "      Bokeh.embed.inject_css(\"https://cdn.pydata.org/bokeh/release/bokeh-0.12.14.min.css\");\n",
       "      console.log(\"Bokeh: injecting CSS: https://cdn.pydata.org/bokeh/release/bokeh-widgets-0.12.14.min.css\");\n",
       "      Bokeh.embed.inject_css(\"https://cdn.pydata.org/bokeh/release/bokeh-widgets-0.12.14.min.css\");\n",
       "      console.log(\"Bokeh: injecting CSS: https://cdn.pydata.org/bokeh/release/bokeh-tables-0.12.14.min.css\");\n",
       "      Bokeh.embed.inject_css(\"https://cdn.pydata.org/bokeh/release/bokeh-tables-0.12.14.min.css\");\n",
       "    }\n",
       "  ];\n",
       "\n",
       "  function run_inline_js() {\n",
       "    \n",
       "    if ((root.Bokeh !== undefined) || (force === true)) {\n",
       "      for (var i = 0; i < inline_js.length; i++) {\n",
       "        inline_js[i].call(root, root.Bokeh);\n",
       "      }if (force === true) {\n",
       "        display_loaded();\n",
       "      }} else if (Date.now() < root._bokeh_timeout) {\n",
       "      setTimeout(run_inline_js, 100);\n",
       "    } else if (!root._bokeh_failed_load) {\n",
       "      console.log(\"Bokeh: BokehJS failed to load within specified timeout.\");\n",
       "      root._bokeh_failed_load = true;\n",
       "    } else if (force !== true) {\n",
       "      var cell = $(document.getElementById(\"ef316100-8c11-45b5-ab66-96c15b21846f\")).parents('.cell').data().cell;\n",
       "      cell.output_area.append_execute_result(NB_LOAD_WARNING)\n",
       "    }\n",
       "\n",
       "  }\n",
       "\n",
       "  if (root._bokeh_is_loading === 0) {\n",
       "    console.log(\"Bokeh: BokehJS loaded, going straight to plotting\");\n",
       "    run_inline_js();\n",
       "  } else {\n",
       "    load_libs(js_urls, function() {\n",
       "      console.log(\"Bokeh: BokehJS plotting callback run at\", now());\n",
       "      run_inline_js();\n",
       "    });\n",
       "  }\n",
       "}(window));"
      ],
      "application/vnd.bokehjs_load.v0+json": "\n(function(root) {\n  function now() {\n    return new Date();\n  }\n\n  var force = true;\n\n  if (typeof (root._bokeh_onload_callbacks) === \"undefined\" || force === true) {\n    root._bokeh_onload_callbacks = [];\n    root._bokeh_is_loading = undefined;\n  }\n\n  \n\n  \n  if (typeof (root._bokeh_timeout) === \"undefined\" || force === true) {\n    root._bokeh_timeout = Date.now() + 5000;\n    root._bokeh_failed_load = false;\n  }\n\n  var NB_LOAD_WARNING = {'data': {'text/html':\n     \"<div style='background-color: #fdd'>\\n\"+\n     \"<p>\\n\"+\n     \"BokehJS does not appear to have successfully loaded. If loading BokehJS from CDN, this \\n\"+\n     \"may be due to a slow or bad network connection. Possible fixes:\\n\"+\n     \"</p>\\n\"+\n     \"<ul>\\n\"+\n     \"<li>re-rerun `output_notebook()` to attempt to load from CDN again, or</li>\\n\"+\n     \"<li>use INLINE resources instead, as so:</li>\\n\"+\n     \"</ul>\\n\"+\n     \"<code>\\n\"+\n     \"from bokeh.resources import INLINE\\n\"+\n     \"output_notebook(resources=INLINE)\\n\"+\n     \"</code>\\n\"+\n     \"</div>\"}};\n\n  function display_loaded() {\n    var el = document.getElementById(\"ef316100-8c11-45b5-ab66-96c15b21846f\");\n    if (el != null) {\n      el.textContent = \"BokehJS is loading...\";\n    }\n    if (root.Bokeh !== undefined) {\n      if (el != null) {\n        el.textContent = \"BokehJS \" + root.Bokeh.version + \" successfully loaded.\";\n      }\n    } else if (Date.now() < root._bokeh_timeout) {\n      setTimeout(display_loaded, 100)\n    }\n  }\n\n\n  function run_callbacks() {\n    try {\n      root._bokeh_onload_callbacks.forEach(function(callback) { callback() });\n    }\n    finally {\n      delete root._bokeh_onload_callbacks\n    }\n    console.info(\"Bokeh: all callbacks have finished\");\n  }\n\n  function load_libs(js_urls, callback) {\n    root._bokeh_onload_callbacks.push(callback);\n    if (root._bokeh_is_loading > 0) {\n      console.log(\"Bokeh: BokehJS is being loaded, scheduling callback at\", now());\n      return null;\n    }\n    if (js_urls == null || js_urls.length === 0) {\n      run_callbacks();\n      return null;\n    }\n    console.log(\"Bokeh: BokehJS not loaded, scheduling load and callback at\", now());\n    root._bokeh_is_loading = js_urls.length;\n    for (var i = 0; i < js_urls.length; i++) {\n      var url = js_urls[i];\n      var s = document.createElement('script');\n      s.src = url;\n      s.async = false;\n      s.onreadystatechange = s.onload = function() {\n        root._bokeh_is_loading--;\n        if (root._bokeh_is_loading === 0) {\n          console.log(\"Bokeh: all BokehJS libraries loaded\");\n          run_callbacks()\n        }\n      };\n      s.onerror = function() {\n        console.warn(\"failed to load library \" + url);\n      };\n      console.log(\"Bokeh: injecting script tag for BokehJS library: \", url);\n      document.getElementsByTagName(\"head\")[0].appendChild(s);\n    }\n  };var element = document.getElementById(\"ef316100-8c11-45b5-ab66-96c15b21846f\");\n  if (element == null) {\n    console.log(\"Bokeh: ERROR: autoload.js configured with elementid 'ef316100-8c11-45b5-ab66-96c15b21846f' but no matching script tag was found. \")\n    return false;\n  }\n\n  var js_urls = [\"https://cdn.pydata.org/bokeh/release/bokeh-0.12.14.min.js\", \"https://cdn.pydata.org/bokeh/release/bokeh-widgets-0.12.14.min.js\", \"https://cdn.pydata.org/bokeh/release/bokeh-tables-0.12.14.min.js\", \"https://cdn.pydata.org/bokeh/release/bokeh-gl-0.12.14.min.js\"];\n\n  var inline_js = [\n    function(Bokeh) {\n      Bokeh.set_log_level(\"info\");\n    },\n    \n    function(Bokeh) {\n      \n    },\n    function(Bokeh) {\n      console.log(\"Bokeh: injecting CSS: https://cdn.pydata.org/bokeh/release/bokeh-0.12.14.min.css\");\n      Bokeh.embed.inject_css(\"https://cdn.pydata.org/bokeh/release/bokeh-0.12.14.min.css\");\n      console.log(\"Bokeh: injecting CSS: https://cdn.pydata.org/bokeh/release/bokeh-widgets-0.12.14.min.css\");\n      Bokeh.embed.inject_css(\"https://cdn.pydata.org/bokeh/release/bokeh-widgets-0.12.14.min.css\");\n      console.log(\"Bokeh: injecting CSS: https://cdn.pydata.org/bokeh/release/bokeh-tables-0.12.14.min.css\");\n      Bokeh.embed.inject_css(\"https://cdn.pydata.org/bokeh/release/bokeh-tables-0.12.14.min.css\");\n    }\n  ];\n\n  function run_inline_js() {\n    \n    if ((root.Bokeh !== undefined) || (force === true)) {\n      for (var i = 0; i < inline_js.length; i++) {\n        inline_js[i].call(root, root.Bokeh);\n      }if (force === true) {\n        display_loaded();\n      }} else if (Date.now() < root._bokeh_timeout) {\n      setTimeout(run_inline_js, 100);\n    } else if (!root._bokeh_failed_load) {\n      console.log(\"Bokeh: BokehJS failed to load within specified timeout.\");\n      root._bokeh_failed_load = true;\n    } else if (force !== true) {\n      var cell = $(document.getElementById(\"ef316100-8c11-45b5-ab66-96c15b21846f\")).parents('.cell').data().cell;\n      cell.output_area.append_execute_result(NB_LOAD_WARNING)\n    }\n\n  }\n\n  if (root._bokeh_is_loading === 0) {\n    console.log(\"Bokeh: BokehJS loaded, going straight to plotting\");\n    run_inline_js();\n  } else {\n    load_libs(js_urls, function() {\n      console.log(\"Bokeh: BokehJS plotting callback run at\", now());\n      run_inline_js();\n    });\n  }\n}(window));"
     },
     "metadata": {},
     "output_type": "display_data"
    }
   ],
   "source": [
    "import time\n",
    "import taxcalc as tc\n",
    "import pandas as pd\n",
    "import numpy as np\n",
    "import helpers\n",
    "import copy\n",
    "from bokeh.plotting import figure\n",
    "from bokeh.models import ColumnDataSource, HoverTool, NumeralTickFormatter, DataRange1d\n",
    "from bokeh.io import show, output_notebook\n",
    "from collections import OrderedDict\n",
    "output_notebook()"
   ]
  },
  {
   "cell_type": "code",
   "execution_count": 47,
   "metadata": {},
   "outputs": [],
   "source": [
    "start_time = time.time()"
   ]
  },
  {
   "cell_type": "code",
   "execution_count": 48,
   "metadata": {},
   "outputs": [],
   "source": [
    "start_yr = 2018\n",
    "end_yr = 2027\n",
    "years = [year for year in range(start_yr, end_yr + 1)]\n",
    "# read in tax reform and consumption parameters\n",
    "params = tc.Calculator.read_json_param_objects('tax_reform.json',\n",
    "                                               assump='welfare_multiples.json')\n",
    "income_bins = [0, 9999, 19999, 29999, 39999, 49999,\n",
    "               74999, 99999, 199999, 1000000, 9e99]"
   ]
  },
  {
   "cell_type": "markdown",
   "metadata": {},
   "source": [
    "# Baseline Calculator"
   ]
  },
  {
   "cell_type": "code",
   "execution_count": 49,
   "metadata": {},
   "outputs": [
    {
     "name": "stdout",
     "output_type": "stream",
     "text": [
      "You loaded data for 2014.\n",
      "Tax-Calculator startup automatically extrapolated your data to 2014.\n"
     ]
    }
   ],
   "source": [
    "rec_base = tc.Records.cps_constructor()\n",
    "pol_base = tc.Policy()\n",
    "consumption_base = tc.Consumption()\n",
    "consumption_base.update_consumption(params['consumption'])\n",
    "calc_base = tc.Calculator(records=rec_base, policy=pol_base,\n",
    "                          consumption=consumption_base)\n",
    "calc_base.advance_to_year(start_yr)\n",
    "calc_base.calc_all()\n",
    "base_tax_rev = calc_base.weighted_total('combined')\n",
    "base_ben_cost = calc_base.weighted_total('benefit_cost_total')"
   ]
  },
  {
   "cell_type": "markdown",
   "metadata": {},
   "source": [
    "# Tax and Benefit Reform"
   ]
  },
  {
   "cell_type": "code",
   "execution_count": 50,
   "metadata": {},
   "outputs": [
    {
     "name": "stdout",
     "output_type": "stream",
     "text": [
      "You loaded data for 2014.\n",
      "Tax-Calculator startup automatically extrapolated your data to 2014.\n"
     ]
    }
   ],
   "source": [
    "rec_reform = tc.Records.cps_constructor()\n",
    "pol_reform = tc.Policy()\n",
    "# implement tax reform\n",
    "pol_reform.implement_reform(params['policy'])\n",
    "calc_reform = tc.Calculator(records=rec_reform, policy=pol_reform)\n",
    "calc_reform.advance_to_year(start_yr)\n",
    "calc_reform.calc_all()\n",
    "base_reform_tax_rev = calc_reform.weighted_total('combined')"
   ]
  },
  {
   "cell_type": "markdown",
   "metadata": {},
   "source": [
    "### Revenue Raised"
   ]
  },
  {
   "cell_type": "code",
   "execution_count": 51,
   "metadata": {},
   "outputs": [
    {
     "name": "stdout",
     "output_type": "stream",
     "text": [
      "Benefit Program Costs\n"
     ]
    },
    {
     "data": {
      "text/html": [
       "<div>\n",
       "<style scoped>\n",
       "    .dataframe tbody tr th:only-of-type {\n",
       "        vertical-align: middle;\n",
       "    }\n",
       "\n",
       "    .dataframe tbody tr th {\n",
       "        vertical-align: top;\n",
       "    }\n",
       "\n",
       "    .dataframe thead th {\n",
       "        text-align: right;\n",
       "    }\n",
       "</style>\n",
       "<table border=\"1\" class=\"dataframe\">\n",
       "  <thead>\n",
       "    <tr style=\"text-align: right;\">\n",
       "      <th></th>\n",
       "      <th>full_names</th>\n",
       "      <th>totals</th>\n",
       "      <th>var_names</th>\n",
       "    </tr>\n",
       "  </thead>\n",
       "  <tbody>\n",
       "    <tr>\n",
       "      <th>0</th>\n",
       "      <td>SSI</td>\n",
       "      <td>57,028.62</td>\n",
       "      <td>ssi</td>\n",
       "    </tr>\n",
       "    <tr>\n",
       "      <th>1</th>\n",
       "      <td>SNAP</td>\n",
       "      <td>78,938.18</td>\n",
       "      <td>snap</td>\n",
       "    </tr>\n",
       "    <tr>\n",
       "      <th>2</th>\n",
       "      <td>Medicare</td>\n",
       "      <td>718,291.57</td>\n",
       "      <td>mcare</td>\n",
       "    </tr>\n",
       "    <tr>\n",
       "      <th>3</th>\n",
       "      <td>Medicaid</td>\n",
       "      <td>392,292.19</td>\n",
       "      <td>mcaid</td>\n",
       "    </tr>\n",
       "    <tr>\n",
       "      <th>4</th>\n",
       "      <td>Veterans Benefits</td>\n",
       "      <td>159,827.81</td>\n",
       "      <td>vet</td>\n",
       "    </tr>\n",
       "    <tr>\n",
       "      <th>5</th>\n",
       "      <td>Social Security</td>\n",
       "      <td>929,566.26</td>\n",
       "      <td>e02400</td>\n",
       "    </tr>\n",
       "    <tr>\n",
       "      <th>6</th>\n",
       "      <td>Unemployment Insurance</td>\n",
       "      <td>29,426.28</td>\n",
       "      <td>e02300</td>\n",
       "    </tr>\n",
       "    <tr>\n",
       "      <th>7</th>\n",
       "      <td>Housing Assistance</td>\n",
       "      <td>2,375.34</td>\n",
       "      <td>housing</td>\n",
       "    </tr>\n",
       "    <tr>\n",
       "      <th>8</th>\n",
       "      <td>WIC</td>\n",
       "      <td>3,616.75</td>\n",
       "      <td>wic</td>\n",
       "    </tr>\n",
       "    <tr>\n",
       "      <th>9</th>\n",
       "      <td>TANF</td>\n",
       "      <td>7,762.68</td>\n",
       "      <td>tanf</td>\n",
       "    </tr>\n",
       "    <tr>\n",
       "      <th>10</th>\n",
       "      <td>Non-Modeled</td>\n",
       "      <td>296,959.19</td>\n",
       "      <td>other</td>\n",
       "    </tr>\n",
       "    <tr>\n",
       "      <th>11</th>\n",
       "      <td>Modeled</td>\n",
       "      <td>2,379,125.68</td>\n",
       "      <td>modeled</td>\n",
       "    </tr>\n",
       "    <tr>\n",
       "      <th>12</th>\n",
       "      <td>Non-Modeled</td>\n",
       "      <td>296,959.19</td>\n",
       "      <td>non-modeled</td>\n",
       "    </tr>\n",
       "    <tr>\n",
       "      <th>13</th>\n",
       "      <td>Total</td>\n",
       "      <td>2,676,084.87</td>\n",
       "      <td>total</td>\n",
       "    </tr>\n",
       "  </tbody>\n",
       "</table>\n",
       "</div>"
      ],
      "text/plain": [
       "                full_names         totals    var_names\n",
       "0                      SSI      57,028.62          ssi\n",
       "1                     SNAP      78,938.18         snap\n",
       "2                 Medicare     718,291.57        mcare\n",
       "3                 Medicaid     392,292.19        mcaid\n",
       "4        Veterans Benefits     159,827.81          vet\n",
       "5          Social Security     929,566.26       e02400\n",
       "6   Unemployment Insurance      29,426.28       e02300\n",
       "7       Housing Assistance       2,375.34      housing\n",
       "8                      WIC       3,616.75          wic\n",
       "9                     TANF       7,762.68         tanf\n",
       "10             Non-Modeled     296,959.19        other\n",
       "11                 Modeled   2,379,125.68      modeled\n",
       "12             Non-Modeled     296,959.19  non-modeled\n",
       "13                   Total   2,676,084.87        total"
      ]
     },
     "execution_count": 51,
     "metadata": {},
     "output_type": "execute_result"
    }
   ],
   "source": [
    "# modeled benefits and non-modeled benefits\n",
    "benefits = {'var_names': ['ssi', 'snap', 'mcare', 'mcaid', 'vet', 'e02400', 'e02300', 'housing', 'wic', 'tanf', 'other'],\n",
    "            'full_names': ['SSI', 'SNAP', 'Medicare', 'Medicaid', 'Veterans Benefits', 'Social Security', 'Unemployment Insurance',\n",
    "                           'Housing Assistance', 'WIC', 'TANF', 'Non-Modeled'],\n",
    "            'totals': []}\n",
    "modeled = 0\n",
    "for ben in benefits['var_names']:\n",
    "    try:\n",
    "        val = calc_base.weighted_total(f'{ben}_ben')\n",
    "    except AttributeError:\n",
    "        val = calc_base.weighted_total(ben)\n",
    "    if ben != 'other':\n",
    "        modeled += val\n",
    "    benefits['totals'].append(f'{val * 1e-6:,.2f}')\n",
    "benefits['var_names'].append('modeled')\n",
    "benefits['full_names'].append('Modeled')\n",
    "benefits['totals'].append(f'{modeled * 1e-6:,.2f}')\n",
    "benefits['var_names'].append('non-modeled')\n",
    "benefits['full_names'].append('Non-Modeled')\n",
    "nonmodeled = calc_base.weighted_total('other_ben')\n",
    "benefits['totals'].append(f'{nonmodeled * 1e-6:,.2f}')\n",
    "benefits['var_names'].append('total')\n",
    "benefits['full_names'].append('Total')\n",
    "total = calc_base.weighted_total('benefit_cost_total')\n",
    "benefits['totals'].append(f'{total * 1e-6: ,.2f}')\n",
    "benefitsdf = pd.DataFrame(benefits)\n",
    "print('Benefit Program Costs')\n",
    "benefitsdf"
   ]
  },
  {
   "cell_type": "code",
   "execution_count": 52,
   "metadata": {},
   "outputs": [],
   "source": [
    "tax_rev = calc_reform.weighted_total('combined') - calc_base.weighted_total('combined')\n",
    "ben_rev = calc_base.weighted_total('benefit_cost_total') - calc_reform.weighted_total('benefit_cost_total')\n",
    "total_rev = tax_rev + ben_rev"
   ]
  },
  {
   "cell_type": "code",
   "execution_count": 53,
   "metadata": {},
   "outputs": [
    {
     "name": "stdout",
     "output_type": "stream",
     "text": [
      "Revenue Raised for 2018\n",
      "Total Tax Revenue Raised:       $491,453,931,163.95\n",
      "Total Benefit Revenue Raised: $2,676,084,867,327.52\n",
      "---------------------------------------------------\n",
      "Total Revenue Raised:         $3,167,538,798,491.48\n"
     ]
    }
   ],
   "source": [
    "print('Revenue Raised for 2018')\n",
    "print(f'Total Tax Revenue Raised:       ${tax_rev:,.2f}')\n",
    "print(f'Total Benefit Revenue Raised: ${ben_rev:,.2f}')\n",
    "print('-' * 51)\n",
    "print(f'Total Revenue Raised:         ${total_rev:,.2f}')"
   ]
  },
  {
   "cell_type": "code",
   "execution_count": 54,
   "metadata": {},
   "outputs": [
    {
     "data": {
      "text/html": [
       "\n",
       "<div class=\"bk-root\">\n",
       "    <div class=\"bk-plotdiv\" id=\"160f5283-de3e-420c-ac2a-790cc207e5ed\"></div>\n",
       "</div>"
      ]
     },
     "metadata": {},
     "output_type": "display_data"
    },
    {
     "data": {
      "application/javascript": [
       "(function(root) {\n",
       "  function embed_document(root) {\n",
       "    \n",
       "  var docs_json = {\"a35bf03c-f93f-45ed-a479-45f1a2f937ab\":{\"roots\":{\"references\":[{\"attributes\":{},\"id\":\"a907dd9a-2875-4bfa-89af-5f2db518f8ee\",\"type\":\"WheelZoomTool\"},{\"attributes\":{\"line_alpha\":0.1,\"line_color\":\"#1f77b4\",\"line_width\":3,\"x\":{\"field\":\"x\"},\"y\":{\"field\":\"y\"}},\"id\":\"18a58d05-7bed-44e2-b970-2e2d96739fa1\",\"type\":\"Line\"},{\"attributes\":{\"dimension\":1,\"plot\":{\"id\":\"77ac5530-a7d5-4fc6-9868-00aae9edbce5\",\"subtype\":\"Figure\",\"type\":\"Plot\"},\"ticker\":{\"id\":\"e736c945-b862-4004-9c97-31656f3c2e8b\",\"type\":\"BasicTicker\"}},\"id\":\"abf13155-3582-49b1-a15b-572cb5d16d89\",\"type\":\"Grid\"},{\"attributes\":{\"active_drag\":\"auto\",\"active_inspect\":\"auto\",\"active_scroll\":\"auto\",\"active_tap\":\"auto\",\"tools\":[{\"id\":\"368fee3f-051b-4852-8084-3c6e0d10d09a\",\"type\":\"PanTool\"},{\"id\":\"a907dd9a-2875-4bfa-89af-5f2db518f8ee\",\"type\":\"WheelZoomTool\"},{\"id\":\"777a82fb-f1f0-4de5-b96f-e6086610ae53\",\"type\":\"BoxZoomTool\"},{\"id\":\"4d16bfa3-9b22-4db4-a59e-259cee96c281\",\"type\":\"SaveTool\"},{\"id\":\"63be59cc-1d4d-44e1-ba85-ca92d94b0a34\",\"type\":\"ResetTool\"},{\"id\":\"23fd6c70-e434-4ee2-9896-ee0f3c55519c\",\"type\":\"HelpTool\"}]},\"id\":\"8477b431-a2d7-46d5-b123-e48b3c181317\",\"type\":\"Toolbar\"},{\"attributes\":{\"callback\":null,\"column_names\":[\"x\",\"y\"],\"data\":{\"x\":[0,1,2,3,4,5,6,7,8,9,10,11,12,13,14,15,16,17,18,19,20,21,22,23,24,25,26,27,28,29,30,31,32,33,34,35,36,37,38,39,40,41,42,43,44,45,46,47,48,49,50,51,52,53,54,55,56,57,58,59,60,61,62,63,64,65,66,67,68,69,70,71,72,73,74,75,76,77,78,79,80,81,82,83,84,85,86,87,88,89,90,91,92,93,94,95,96,97,98,99],\"y\":{\"__ndarray__\":\"H3cpxggLpz8FSM3WODe6P/UzKrzp3rw/DItasHVjtj9GOyjQeryhP8ilwwU3MHY/JR2Oj4bCfD9lF26XKw6PP4L2JoWcupU/GTVKeiMhrj8+3+hXW/OyP5BRsQvoG7s/lGOeQgsTvD971NwzfWS9P2dvXUDvcb0/AJ2EuXUuwT/6LsZUfOrBP30e5lX3IsA/yghCw25awz/PIvQl8O3DP+v22OvircQ/I95PLk27xD/7tx5xSDbGPwYyXqUsUMc//8Wnq6gFyD/xkgx6pV3HPwK9wiNeJsk/f82X4zFlyj82kynisHLIP4RztGmjMMk/O5O/mmXhyz8N7fEa3GrLP2zOztZ9O8s/xAUUcZC+zD/weoI8Sd7MP0mQg7rVTc0/sxt9G5oGzj9zcE7nsAnNP4CU1W9dZtA/mFnSdjpzzj9ewpbp/9jOP5uFprdb684/3JAtCcPGzz89wZuRzsrOPxCkDS50E9A/MQ2nhipM0D8GYdoIWtvPP+Tob1CvMdA/B0G9FfY00D+hBTr8qiHQP8evU2lONdA/9ZnpGoQY0D+KKq4+EFLRP895Pt1gpNE/F4VyZwo10j/yP95Fz6rRP1Ve6RAuvtE/dJu0aOqY0T9+jO9Vw1nSP0XfDU5U3dE/rY+O8Gsj0j9Pdvo5mh7SP8H1zHqIjdI/aKg3BDEh0j9GgScS4FPSP0TP/Y7qF9M/945wuB1f0j+dddO5iJLSPwrSogOSpNI/5lzPqM7D0j/Ozart/KzSP3mlB2KV99I/+jfbvxh/0j+9PqKB+cTSP8GRmYl1zNI/Yk51fVWe0j9R/ZxGCrrSP3U7CiA2jdI/K/9/heGX0z9FmtDeutfUP0N+K+YFYNU/JMgbMEH+1T9NFsxz1CTWP/+zhdJEidY/99TsUitA1j+QiGdn+YLWP2gbC1jhQ9Y/+ddUg4Ke1T+d/ssiF6HVP/KD9rKDqtU/cqAnqC2+1T/GUrX3nNLVP2GV0wMvpNU/PLJrRFXW1T95RZyM9jTWPxygbwn8YtY/wnA6uJtP1j9bofgXUEDWPwmWV76Wn9Y/PWCiy4bL2j8=\",\"dtype\":\"float64\",\"shape\":[100]}}},\"id\":\"cc586a97-7267-49b8-a3f5-b35c9b5e38a0\",\"type\":\"ColumnDataSource\"},{\"attributes\":{\"callback\":null,\"column_names\":[\"x\",\"y\"],\"data\":{\"x\":[0,1,2,3,4,5,6,7,8,9,10,11,12,13,14,15,16,17,18,19,20,21,22,23,24,25,26,27,28,29,30,31,32,33,34,35,36,37,38,39,40,41,42,43,44,45,46,47,48,49,50,51,52,53,54,55,56,57,58,59,60,61,62,63,64,65,66,67,68,69,70,71,72,73,74,75,76,77,78,79,80,81,82,83,84,85,86,87,88,89,90,91,92,93,94,95,96,97,98,99],\"y\":{\"__ndarray__\":\"zdUTx78KzD8WSZXgv7DJP56Rnvpdyso/YApTGfn8zD9JDIJ8sanLP3GOGqCSU8s/E5BsTWJnzD9tXhca70zMPwsO9xD5rcw/fcT07aszzT880JUWLMPNP4IRqL7UNs0/Kmoe7yp5zT9bduR3R6fMP3gAvmiv08w//QjfIEJgzT9SrtINHJrNPwJboaGXxsw/tvv8c94yzT+gscW2ZG7NPxYKaaRqv80/NWaYibJ3zT9gr9IlTQfOP+BwPECSVM4/qQIwTcfNzj8mf8vO6zLOP8KCmo8j2c4/Y9EKgiEPzz9E9vLYnJ/OP6ro7qRLss4/P6KRGc5czz/a/66gN4PPP/cUN4kuZc8/n0IRV56tzz8nGtSmC+TPP7cVW921v88/wQirwNAU0D/oyua7cezPP08nvy/LfNA/H0ecUoQy0D/JbNVjtlbQP0JWxx/zSNA/WUkkNUbF0T+xNs6UTrbRP5HjQNrZQdI/yfINthQY0j+rsKzSIOTRP7aflnSRIdI/SQRhomq40j9e2KaxGUjTP8T7ZeFE4dI/ttfmkBa+0j+8GUvqKQbTP2xKC9/ZKtM/8yMDQUqG0z9dzATEjwLTPzRTJNM6SNM/xqyGIXsb0z9lfZ+P9q7TP777jfgA/9I/+RdOiPoq0z/078JmnjfTP4ff6kyMctM/UnQHjBMf0z9r7G4+dzTTP2BgXW6irNM/Sri8Y3kp0z/wk+NoJTfTP7x5yiV2dNM/ZoKFR8xw1D+JqtGDIV7UP4j9MW7c5dQ/SRYvhVR+1T+4YrRQq8vVP5n9OmBY79U//HQGDhAY1j+wVr/DuSfWPzSEMP4vLNY/1JtQOvh71j/FXAQcS2LWP8LCxQMGetY/pLntrxSk1j/MsNFmGMPWP70Qvsli29Y/vqCZbzrJ1j8Mc+THsOvWP0TA1Xuol9Y//xFtY5sE1j8V+3vVqvPVP4EYu0pQDdY/c1nLXQ071j9TumHNQJTWP2+Zg0wTwNY/0g1EN+K21j9p8R6FbsPWP1Zx7zhxvdY/iUTAWien1j99O/+6VWjWP7R8fNFBjNc/+WWGX+yL2z8=\",\"dtype\":\"float64\",\"shape\":[100]}}},\"id\":\"2eac8384-13e9-4133-886a-520e9686d67d\",\"type\":\"ColumnDataSource\"},{\"attributes\":{},\"id\":\"953d69f1-19c4-473a-bad9-cf19a3e436d6\",\"type\":\"LinearScale\"},{\"attributes\":{\"source\":{\"id\":\"2eac8384-13e9-4133-886a-520e9686d67d\",\"type\":\"ColumnDataSource\"}},\"id\":\"1c5af8e0-0c21-4989-91a6-cf45f1d9ca9f\",\"type\":\"CDSView\"},{\"attributes\":{\"callback\":null},\"id\":\"cf9e1d01-cfc1-4f70-bbb9-d843cbaad36f\",\"type\":\"DataRange1d\"},{\"attributes\":{\"line_alpha\":0.1,\"line_color\":\"#1f77b4\",\"line_width\":3,\"x\":{\"field\":\"x\"},\"y\":{\"field\":\"y\"}},\"id\":\"3ce2b8b4-2adf-4a25-930e-4dc72b589561\",\"type\":\"Line\"},{\"attributes\":{\"line_color\":\"red\",\"line_width\":3,\"x\":{\"field\":\"x\"},\"y\":{\"field\":\"y\"}},\"id\":\"fe36b2d2-f75b-4c0a-80e3-4f4266668e0b\",\"type\":\"Line\"},{\"attributes\":{\"label\":{\"value\":\"Baseline\"},\"renderers\":[{\"id\":\"d69fce27-b394-436d-b4b5-4b229731a5ce\",\"type\":\"GlyphRenderer\"}]},\"id\":\"3b51114c-21a0-4649-b660-14c72a9e45cb\",\"type\":\"LegendItem\"},{\"attributes\":{\"line_color\":\"blue\",\"line_width\":3,\"x\":{\"field\":\"x\"},\"y\":{\"field\":\"y\"}},\"id\":\"381dd6ad-058e-484e-be7e-411f02b037da\",\"type\":\"Line\"},{\"attributes\":{\"callback\":null,\"data\":{}},\"id\":\"e5812ec9-e723-406c-8d3c-212d8de1f482\",\"type\":\"ColumnDataSource\"},{\"attributes\":{\"overlay\":{\"id\":\"ceda37a0-170d-4eb7-a969-121307c2a9ec\",\"type\":\"BoxAnnotation\"}},\"id\":\"777a82fb-f1f0-4de5-b96f-e6086610ae53\",\"type\":\"BoxZoomTool\"},{\"attributes\":{\"bottom_units\":\"screen\",\"fill_alpha\":{\"value\":0.5},\"fill_color\":{\"value\":\"lightgrey\"},\"left_units\":\"screen\",\"level\":\"overlay\",\"line_alpha\":{\"value\":1.0},\"line_color\":{\"value\":\"black\"},\"line_dash\":[4,4],\"line_width\":{\"value\":2},\"plot\":null,\"render_mode\":\"css\",\"right_units\":\"screen\",\"top_units\":\"screen\"},\"id\":\"ceda37a0-170d-4eb7-a969-121307c2a9ec\",\"type\":\"BoxAnnotation\"},{\"attributes\":{},\"id\":\"4d16bfa3-9b22-4db4-a59e-259cee96c281\",\"type\":\"SaveTool\"},{\"attributes\":{\"source\":{\"id\":\"e5812ec9-e723-406c-8d3c-212d8de1f482\",\"type\":\"ColumnDataSource\"}},\"id\":\"49875962-1491-4889-9793-865a4a2ee461\",\"type\":\"CDSView\"},{\"attributes\":{\"label\":{\"value\":\"Reform\"},\"renderers\":[{\"id\":\"20d05797-7857-41f0-8ebc-3d34fc1168d5\",\"type\":\"GlyphRenderer\"}]},\"id\":\"6e06411c-b9c3-4674-8475-c4df37737d6a\",\"type\":\"LegendItem\"},{\"attributes\":{\"glyph_height\":14,\"glyph_width\":14,\"items\":[{\"id\":\"3b51114c-21a0-4649-b660-14c72a9e45cb\",\"type\":\"LegendItem\"},{\"id\":\"6e06411c-b9c3-4674-8475-c4df37737d6a\",\"type\":\"LegendItem\"}],\"label_height\":2,\"label_standoff\":2,\"label_text_font\":\"times\",\"label_text_font_style\":\"italic\",\"label_width\":2,\"location\":\"bottom_right\",\"padding\":5,\"plot\":{\"id\":\"77ac5530-a7d5-4fc6-9868-00aae9edbce5\",\"subtype\":\"Figure\",\"type\":\"Plot\"},\"spacing\":5},\"id\":\"570b4953-89d8-4c87-b6e9-ba2d170fac29\",\"type\":\"Legend\"},{\"attributes\":{\"plot\":null,\"text\":\"Mean Marginal Tax Rate for e00200p by Income Percentile for 2018\",\"text_font_size\":{\"value\":\"12pt\"}},\"id\":\"a98baebb-8344-49f5-be92-5f34b361f8e9\",\"type\":\"Title\"},{\"attributes\":{},\"id\":\"e736c945-b862-4004-9c97-31656f3c2e8b\",\"type\":\"BasicTicker\"},{\"attributes\":{},\"id\":\"1123e680-bbe7-4e2e-b7ea-8938dece5aea\",\"type\":\"BasicTickFormatter\"},{\"attributes\":{\"data_source\":{\"id\":\"cc586a97-7267-49b8-a3f5-b35c9b5e38a0\",\"type\":\"ColumnDataSource\"},\"glyph\":{\"id\":\"381dd6ad-058e-484e-be7e-411f02b037da\",\"type\":\"Line\"},\"hover_glyph\":null,\"muted_glyph\":null,\"nonselection_glyph\":{\"id\":\"18a58d05-7bed-44e2-b970-2e2d96739fa1\",\"type\":\"Line\"},\"selection_glyph\":null,\"view\":{\"id\":\"ec7e2c89-8cdd-4f5d-a612-13be2e173cbf\",\"type\":\"CDSView\"}},\"id\":\"d69fce27-b394-436d-b4b5-4b229731a5ce\",\"type\":\"GlyphRenderer\"},{\"attributes\":{\"below\":[{\"id\":\"054ded6c-64df-43ee-bd55-ca53d89e9440\",\"type\":\"LinearAxis\"}],\"left\":[{\"id\":\"c61686de-725a-4914-8ffa-b9c058294c6d\",\"type\":\"LinearAxis\"}],\"plot_height\":500,\"plot_width\":850,\"renderers\":[{\"id\":\"054ded6c-64df-43ee-bd55-ca53d89e9440\",\"type\":\"LinearAxis\"},{\"id\":\"79ddfbd8-ed74-4cd8-8d01-51e61236d26d\",\"type\":\"Grid\"},{\"id\":\"c61686de-725a-4914-8ffa-b9c058294c6d\",\"type\":\"LinearAxis\"},{\"id\":\"abf13155-3582-49b1-a15b-572cb5d16d89\",\"type\":\"Grid\"},{\"id\":\"ceda37a0-170d-4eb7-a969-121307c2a9ec\",\"type\":\"BoxAnnotation\"},{\"id\":\"570b4953-89d8-4c87-b6e9-ba2d170fac29\",\"type\":\"Legend\"},{\"id\":\"d69fce27-b394-436d-b4b5-4b229731a5ce\",\"type\":\"GlyphRenderer\"},{\"id\":\"20d05797-7857-41f0-8ebc-3d34fc1168d5\",\"type\":\"GlyphRenderer\"},{\"id\":\"edab9ba1-b7cf-4341-9615-7a816ac97e45\",\"type\":\"GlyphRenderer\"}],\"title\":{\"id\":\"a98baebb-8344-49f5-be92-5f34b361f8e9\",\"type\":\"Title\"},\"toolbar\":{\"id\":\"8477b431-a2d7-46d5-b123-e48b3c181317\",\"type\":\"Toolbar\"},\"x_range\":{\"id\":\"cf9e1d01-cfc1-4f70-bbb9-d843cbaad36f\",\"type\":\"DataRange1d\"},\"x_scale\":{\"id\":\"953d69f1-19c4-473a-bad9-cf19a3e436d6\",\"type\":\"LinearScale\"},\"y_range\":{\"id\":\"5df3ff7e-a228-479d-84b6-595eff7705e5\",\"type\":\"DataRange1d\"},\"y_scale\":{\"id\":\"22af97d7-b286-4eb0-a759-ed2893d34e0f\",\"type\":\"LinearScale\"}},\"id\":\"77ac5530-a7d5-4fc6-9868-00aae9edbce5\",\"subtype\":\"Figure\",\"type\":\"Plot\"},{\"attributes\":{\"fill_alpha\":{\"value\":0.1},\"fill_color\":{\"value\":\"#1f77b4\"},\"line_alpha\":{\"value\":0.1},\"line_color\":{\"value\":\"#1f77b4\"},\"x\":{\"value\":0},\"y\":{\"value\":0}},\"id\":\"905f25f8-579f-4f19-82c4-c4b5dc12de39\",\"type\":\"Circle\"},{\"attributes\":{\"source\":{\"id\":\"cc586a97-7267-49b8-a3f5-b35c9b5e38a0\",\"type\":\"ColumnDataSource\"}},\"id\":\"ec7e2c89-8cdd-4f5d-a612-13be2e173cbf\",\"type\":\"CDSView\"},{\"attributes\":{},\"id\":\"63be59cc-1d4d-44e1-ba85-ca92d94b0a34\",\"type\":\"ResetTool\"},{\"attributes\":{},\"id\":\"368fee3f-051b-4852-8084-3c6e0d10d09a\",\"type\":\"PanTool\"},{\"attributes\":{},\"id\":\"532d587f-5897-401b-a301-2f1ff4b5c6ef\",\"type\":\"BasicTicker\"},{\"attributes\":{},\"id\":\"64ff8186-8312-4734-8ec8-716cf5fd69b6\",\"type\":\"BasicTickFormatter\"},{\"attributes\":{},\"id\":\"22af97d7-b286-4eb0-a759-ed2893d34e0f\",\"type\":\"LinearScale\"},{\"attributes\":{\"data_source\":{\"id\":\"2eac8384-13e9-4133-886a-520e9686d67d\",\"type\":\"ColumnDataSource\"},\"glyph\":{\"id\":\"fe36b2d2-f75b-4c0a-80e3-4f4266668e0b\",\"type\":\"Line\"},\"hover_glyph\":null,\"muted_glyph\":null,\"nonselection_glyph\":{\"id\":\"3ce2b8b4-2adf-4a25-930e-4dc72b589561\",\"type\":\"Line\"},\"selection_glyph\":null,\"view\":{\"id\":\"1c5af8e0-0c21-4989-91a6-cf45f1d9ca9f\",\"type\":\"CDSView\"}},\"id\":\"20d05797-7857-41f0-8ebc-3d34fc1168d5\",\"type\":\"GlyphRenderer\"},{\"attributes\":{\"fill_color\":{\"value\":\"#1f77b4\"},\"line_color\":{\"value\":\"#1f77b4\"},\"x\":{\"value\":0},\"y\":{\"value\":0}},\"id\":\"b07e94ec-3118-47be-a423-ede03adef14f\",\"type\":\"Circle\"},{\"attributes\":{},\"id\":\"23fd6c70-e434-4ee2-9896-ee0f3c55519c\",\"type\":\"HelpTool\"},{\"attributes\":{\"axis_label\":\"Baseline Expanded-Income Percentile\",\"axis_label_text_font_size\":{\"value\":\"12pt\"},\"axis_label_text_font_style\":\"normal\",\"formatter\":{\"id\":\"64ff8186-8312-4734-8ec8-716cf5fd69b6\",\"type\":\"BasicTickFormatter\"},\"plot\":{\"id\":\"77ac5530-a7d5-4fc6-9868-00aae9edbce5\",\"subtype\":\"Figure\",\"type\":\"Plot\"},\"ticker\":{\"id\":\"532d587f-5897-401b-a301-2f1ff4b5c6ef\",\"type\":\"BasicTicker\"}},\"id\":\"054ded6c-64df-43ee-bd55-ca53d89e9440\",\"type\":\"LinearAxis\"},{\"attributes\":{\"plot\":{\"id\":\"77ac5530-a7d5-4fc6-9868-00aae9edbce5\",\"subtype\":\"Figure\",\"type\":\"Plot\"},\"ticker\":{\"id\":\"532d587f-5897-401b-a301-2f1ff4b5c6ef\",\"type\":\"BasicTicker\"}},\"id\":\"79ddfbd8-ed74-4cd8-8d01-51e61236d26d\",\"type\":\"Grid\"},{\"attributes\":{\"data_source\":{\"id\":\"e5812ec9-e723-406c-8d3c-212d8de1f482\",\"type\":\"ColumnDataSource\"},\"glyph\":{\"id\":\"b07e94ec-3118-47be-a423-ede03adef14f\",\"type\":\"Circle\"},\"hover_glyph\":null,\"muted_glyph\":null,\"nonselection_glyph\":{\"id\":\"905f25f8-579f-4f19-82c4-c4b5dc12de39\",\"type\":\"Circle\"},\"selection_glyph\":null,\"view\":{\"id\":\"49875962-1491-4889-9793-865a4a2ee461\",\"type\":\"CDSView\"},\"visible\":false},\"id\":\"edab9ba1-b7cf-4341-9615-7a816ac97e45\",\"type\":\"GlyphRenderer\"},{\"attributes\":{\"callback\":null},\"id\":\"5df3ff7e-a228-479d-84b6-595eff7705e5\",\"type\":\"DataRange1d\"},{\"attributes\":{\"axis_label\":\"Income+Payroll-Tax MTR\",\"axis_label_text_font_size\":{\"value\":\"12pt\"},\"axis_label_text_font_style\":\"normal\",\"formatter\":{\"id\":\"1123e680-bbe7-4e2e-b7ea-8938dece5aea\",\"type\":\"BasicTickFormatter\"},\"plot\":{\"id\":\"77ac5530-a7d5-4fc6-9868-00aae9edbce5\",\"subtype\":\"Figure\",\"type\":\"Plot\"},\"ticker\":{\"id\":\"e736c945-b862-4004-9c97-31656f3c2e8b\",\"type\":\"BasicTicker\"}},\"id\":\"c61686de-725a-4914-8ffa-b9c058294c6d\",\"type\":\"LinearAxis\"}],\"root_ids\":[\"77ac5530-a7d5-4fc6-9868-00aae9edbce5\"]},\"title\":\"Bokeh Application\",\"version\":\"0.12.14\"}};\n",
       "  var render_items = [{\"docid\":\"a35bf03c-f93f-45ed-a479-45f1a2f937ab\",\"elementid\":\"160f5283-de3e-420c-ac2a-790cc207e5ed\",\"modelid\":\"77ac5530-a7d5-4fc6-9868-00aae9edbce5\"}];\n",
       "  root.Bokeh.embed.embed_items_notebook(docs_json, render_items);\n",
       "\n",
       "  }\n",
       "  if (root.Bokeh !== undefined) {\n",
       "    embed_document(root);\n",
       "  } else {\n",
       "    var attempts = 0;\n",
       "    var timer = setInterval(function(root) {\n",
       "      if (root.Bokeh !== undefined) {\n",
       "        embed_document(root);\n",
       "        clearInterval(timer);\n",
       "      }\n",
       "      attempts++;\n",
       "      if (attempts > 100) {\n",
       "        console.log(\"Bokeh: ERROR: Unable to run BokehJS code because BokehJS library is missing\")\n",
       "        clearInterval(timer);\n",
       "      }\n",
       "    }, 10, root)\n",
       "  }\n",
       "})(window);"
      ],
      "application/vnd.bokehjs_exec.v0+json": ""
     },
     "metadata": {
      "application/vnd.bokehjs_exec.v0+json": {
       "id": "77ac5530-a7d5-4fc6-9868-00aae9edbce5"
      }
     },
     "output_type": "display_data"
    }
   ],
   "source": [
    "base_reform_mtr = calc_base.mtr_graph(calc_reform)\n",
    "show(base_reform_mtr)"
   ]
  },
  {
   "cell_type": "markdown",
   "metadata": {},
   "source": [
    "## Initial UBI\n",
    "\n",
    "Caculations for a UBI in 2018"
   ]
  },
  {
   "cell_type": "code",
   "execution_count": 56,
   "metadata": {},
   "outputs": [
    {
     "name": "stdout",
     "output_type": "stream",
     "text": [
      "Base UBI for those under 18: $5,394.28\n",
      "Base UBI for those above 18: $10,788.56\n",
      "Note: these do not account for additional tax revenue due to the UBI\n"
     ]
    }
   ],
   "source": [
    "u18 = calc_reform.weighted_total('nu18')\n",
    "abv18 = calc_reform.weighted_total('n1820') + calc_reform.weighted_total('n21')\n",
    "ubi_18, ubi_u18 = helpers.ubi_amount(total_rev, u18, abv18)\n",
    "print(f'Base UBI for those under 18: ${ubi_u18:,.2f}')\n",
    "print(f'Base UBI for those above 18: ${ubi_18:,.2f}')\n",
    "print('Note: these do not account for additional tax revenue due to the UBI')"
   ]
  },
  {
   "cell_type": "code",
   "execution_count": 57,
   "metadata": {},
   "outputs": [
    {
     "name": "stdout",
     "output_type": "stream",
     "text": [
      "You loaded data for 2014.\n",
      "Tax-Calculator startup automatically extrapolated your data to 2014.\n"
     ]
    }
   ],
   "source": [
    "# calculator to find initial UBI tax revenue\n",
    "rec_init = tc.Records.cps_constructor()\n",
    "pol_init = tc.Policy()\n",
    "pol_init.implement_reform(params['policy'])\n",
    "ubi_reform = {\n",
    "    2018: {\n",
    "        '_UBI_u18': [ubi_u18],\n",
    "        '_UBI_1820': [ubi_18],\n",
    "        '_UBI_21': [ubi_18]\n",
    "    }\n",
    "}\n",
    "pol_init.implement_reform(ubi_reform)\n",
    "calc_init = tc.Calculator(records=rec_init, policy=pol_init)\n",
    "calc_init.advance_to_year(2018)\n",
    "calc_init.calc_all()"
   ]
  },
  {
   "cell_type": "code",
   "execution_count": 58,
   "metadata": {},
   "outputs": [
    {
     "name": "stdout",
     "output_type": "stream",
     "text": [
      "Initial tax revenue raised by a UBI: $527,090,568,011.04\n"
     ]
    }
   ],
   "source": [
    "reform_rev = calc_reform.weighted_total('combined')\n",
    "ubi_tax_rev_init = (calc_init.weighted_total('combined') -\n",
    "                   reform_rev)\n",
    "print(f'Initial tax revenue raised by a UBI: ${ubi_tax_rev_init:,.2f}')"
   ]
  },
  {
   "cell_type": "markdown",
   "metadata": {},
   "source": [
    "## Budget Neutral UBI\n",
    "Calculations for a UBI that is budget neutral in 2018"
   ]
  },
  {
   "cell_type": "code",
   "execution_count": 59,
   "metadata": {},
   "outputs": [
    {
     "name": "stdout",
     "output_type": "stream",
     "text": [
      "2018\n",
      "Iterations: 15\n",
      "Revenue Difference: $-47.96\n"
     ]
    }
   ],
   "source": [
    "# find UBI after accounting for additional tax revenue\n",
    "ubi_18_final, ubi_u18_final = helpers.ubi_finder(u18, abv18, ubi_18, ubi_u18,\n",
    "                                                 params, total_rev, reform_rev,\n",
    "                                                 2018, 100)"
   ]
  },
  {
   "cell_type": "code",
   "execution_count": 60,
   "metadata": {},
   "outputs": [
    {
     "name": "stdout",
     "output_type": "stream",
     "text": [
      "Budget Neutral UBI Amounts:\n",
      "\t Those under 18: $6,502.06\n",
      "\t Those above 18: $13,004.11\n"
     ]
    }
   ],
   "source": [
    "print('Budget Neutral UBI Amounts:')\n",
    "print(f'\\t Those under 18: ${ubi_u18_final:,.2f}')\n",
    "print(f'\\t Those above 18: ${ubi_18_final:,.2f}')"
   ]
  },
  {
   "cell_type": "markdown",
   "metadata": {},
   "source": [
    "## Calculations with a UBI for 2018"
   ]
  },
  {
   "cell_type": "code",
   "execution_count": 61,
   "metadata": {},
   "outputs": [
    {
     "name": "stdout",
     "output_type": "stream",
     "text": [
      "You loaded data for 2014.\n",
      "Tax-Calculator startup automatically extrapolated your data to 2014.\n"
     ]
    }
   ],
   "source": [
    "rec_ubi = tc.Records.cps_constructor()\n",
    "pol_ubi = tc.Policy()\n",
    "pol_ubi.implement_reform(params['policy'])\n",
    "ubi_reform = {\n",
    "    2018: {\n",
    "        '_UBI_u18': [ubi_u18_final],\n",
    "        '_UBI_1820': [ubi_18_final],\n",
    "        '_UBI_21': [ubi_18_final]\n",
    "    }\n",
    "}\n",
    "pol_ubi.implement_reform(ubi_reform)\n",
    "calc_ubi = tc.Calculator(records=rec_ubi, policy=pol_ubi)\n",
    "calc_ubi.advance_to_year(start_yr)\n",
    "calc_ubi.calc_all()"
   ]
  },
  {
   "cell_type": "code",
   "execution_count": 62,
   "metadata": {},
   "outputs": [
    {
     "name": "stdout",
     "output_type": "stream",
     "text": [
      "Total Cost of the UBI: $3,818,028,958,479.40\n",
      "Cost Difference: $-47.96\n"
     ]
    }
   ],
   "source": [
    "total_ubi_cost = calc_ubi.weighted_total('ubi')\n",
    "tax_rev_ubi = (calc_ubi.weighted_total('combined') - base_tax_rev)\n",
    "ben_rev_ubi = (base_ben_cost - calc_ubi.weighted_total('benefit_cost_total'))\n",
    "total_ubi_rev = tax_rev_ubi + ben_rev_ubi\n",
    "diff = total_ubi_cost - total_ubi_rev\n",
    "print(f'Total Cost of the UBI: ${total_ubi_cost:,.2f}')\n",
    "print(f'Cost Difference: ${diff:,.2f}')"
   ]
  },
  {
   "cell_type": "code",
   "execution_count": 63,
   "metadata": {},
   "outputs": [],
   "source": [
    "# UBI table data prep\n",
    "table_data = calc_ubi.dataframe(['ubi', 'e00200', 'nu18', 'n1820', 'n21',\n",
    "                                 'combined', 's006', 'benefit_cost_total',\n",
    "                                 'benefit_value_total', 'elderly_dependent',\n",
    "                                 'age_head', 'age_spouse'])\n",
    "mtrs = calc_ubi.mtr()\n",
    "table_data['pmtr'] = mtrs[0]\n",
    "table_data['imtr'] = mtrs[1]\n",
    "table_data['cmtr'] = mtrs[2]\n",
    "table_data['ppl'] = table_data['nu18'] + table_data['n1820'] + table_data['n21']\n",
    "table_data['ubi/person'] = table_data['ubi'] / table_data['ppl']\n",
    "tax_change = calc_ubi.array('combined') - calc_base.array('combined')\n",
    "table_data['tax_change'] = tax_change\n",
    "ben_change = (calc_ubi.array('benefit_cost_total') -\n",
    "              calc_base.array('benefit_cost_total'))\n",
    "table_data['ben_change'] = ben_change\n",
    "ben_change_welfare = (table_data['benefit_value_total'] -\n",
    "                      calc_base.array('benefit_value_total'))\n",
    "table_data['ben_change_welfare'] = ben_change_welfare\n",
    "combined_change = (table_data['ubi'] -\n",
    "                   table_data['tax_change'] +\n",
    "                   table_data['ben_change'])\n",
    "table_data['combined_change'] = combined_change\n",
    "combined_change_welfare = (table_data['ubi'] -\n",
    "                           table_data['tax_change'] +\n",
    "                           table_data['ben_change_welfare'])\n",
    "table_data['combined_change_welfare'] = combined_change_welfare\n",
    "table_data['65_plus'] = np.where((table_data['elderly_dependent'] == 1) |\n",
    "                                  (table_data['age_head'] >= 65) |\n",
    "                                  (table_data['age_spouse'] >= 65), 1, 0)"
   ]
  },
  {
   "cell_type": "markdown",
   "metadata": {},
   "source": [
    "## 2018 UBI Tables"
   ]
  },
  {
   "cell_type": "markdown",
   "metadata": {},
   "source": [
    "### All Tax Units"
   ]
  },
  {
   "cell_type": "code",
   "execution_count": 64,
   "metadata": {},
   "outputs": [
    {
     "data": {
      "text/html": [
       "<div>\n",
       "<style scoped>\n",
       "    .dataframe tbody tr th:only-of-type {\n",
       "        vertical-align: middle;\n",
       "    }\n",
       "\n",
       "    .dataframe tbody tr th {\n",
       "        vertical-align: top;\n",
       "    }\n",
       "\n",
       "    .dataframe thead th {\n",
       "        text-align: right;\n",
       "    }\n",
       "</style>\n",
       "<table border=\"1\" class=\"dataframe\">\n",
       "  <thead>\n",
       "    <tr style=\"text-align: right;\">\n",
       "      <th></th>\n",
       "      <th>Wage and Salary Floor (Thousands)</th>\n",
       "      <th>Tax Units (m)</th>\n",
       "      <th>Avg Tax Unit Size</th>\n",
       "      <th>Avg UBI Per Person</th>\n",
       "      <th>Avg MTR - Payroll</th>\n",
       "      <th>Avg MTR - Individual Income</th>\n",
       "      <th>Avg MTR - Combined</th>\n",
       "      <th>Avg Tax Change</th>\n",
       "      <th>Avg UBI Per Tax Unit</th>\n",
       "      <th>Avg Benefits Change</th>\n",
       "      <th>Avg Benefits Change - Welfare Adj</th>\n",
       "      <th>Avg Combined Change</th>\n",
       "      <th>Avg Combined Change - Welfare Adj</th>\n",
       "    </tr>\n",
       "  </thead>\n",
       "  <tbody>\n",
       "    <tr>\n",
       "      <th>0</th>\n",
       "      <td>0</td>\n",
       "      <td>61.87</td>\n",
       "      <td>1.568728</td>\n",
       "      <td>12,318</td>\n",
       "      <td>14.2%</td>\n",
       "      <td>13.3%</td>\n",
       "      <td>27.4%</td>\n",
       "      <td>3,082</td>\n",
       "      <td>18,663</td>\n",
       "      <td>-31,535</td>\n",
       "      <td>-25,956</td>\n",
       "      <td>-15,954</td>\n",
       "      <td>-10,375</td>\n",
       "    </tr>\n",
       "    <tr>\n",
       "      <th>1</th>\n",
       "      <td>10</td>\n",
       "      <td>14.41</td>\n",
       "      <td>1.777568</td>\n",
       "      <td>12,058</td>\n",
       "      <td>14.2%</td>\n",
       "      <td>12.2%</td>\n",
       "      <td>26.4%</td>\n",
       "      <td>5,517</td>\n",
       "      <td>20,060</td>\n",
       "      <td>-11,297</td>\n",
       "      <td>-8,692</td>\n",
       "      <td>3,246</td>\n",
       "      <td>5,851</td>\n",
       "    </tr>\n",
       "    <tr>\n",
       "      <th>2</th>\n",
       "      <td>20</td>\n",
       "      <td>15.25</td>\n",
       "      <td>1.872203</td>\n",
       "      <td>12,027</td>\n",
       "      <td>14.2%</td>\n",
       "      <td>14.8%</td>\n",
       "      <td>29.0%</td>\n",
       "      <td>6,169</td>\n",
       "      <td>21,042</td>\n",
       "      <td>-8,891</td>\n",
       "      <td>-6,787</td>\n",
       "      <td>5,982</td>\n",
       "      <td>8,086</td>\n",
       "    </tr>\n",
       "    <tr>\n",
       "      <th>3</th>\n",
       "      <td>30</td>\n",
       "      <td>12.41</td>\n",
       "      <td>1.918864</td>\n",
       "      <td>12,066</td>\n",
       "      <td>14.2%</td>\n",
       "      <td>18.2%</td>\n",
       "      <td>32.4%</td>\n",
       "      <td>6,460</td>\n",
       "      <td>21,678</td>\n",
       "      <td>-7,314</td>\n",
       "      <td>-5,575</td>\n",
       "      <td>7,904</td>\n",
       "      <td>9,643</td>\n",
       "    </tr>\n",
       "    <tr>\n",
       "      <th>4</th>\n",
       "      <td>40</td>\n",
       "      <td>10.62</td>\n",
       "      <td>2.026123</td>\n",
       "      <td>12,044</td>\n",
       "      <td>14.2%</td>\n",
       "      <td>18.9%</td>\n",
       "      <td>33.1%</td>\n",
       "      <td>7,006</td>\n",
       "      <td>22,849</td>\n",
       "      <td>-6,879</td>\n",
       "      <td>-5,403</td>\n",
       "      <td>8,964</td>\n",
       "      <td>10,439</td>\n",
       "    </tr>\n",
       "    <tr>\n",
       "      <th>5</th>\n",
       "      <td>50</td>\n",
       "      <td>19.00</td>\n",
       "      <td>2.174613</td>\n",
       "      <td>12,005</td>\n",
       "      <td>14.2%</td>\n",
       "      <td>20.4%</td>\n",
       "      <td>34.6%</td>\n",
       "      <td>8,104</td>\n",
       "      <td>24,545</td>\n",
       "      <td>-5,920</td>\n",
       "      <td>-4,787</td>\n",
       "      <td>10,521</td>\n",
       "      <td>11,655</td>\n",
       "    </tr>\n",
       "    <tr>\n",
       "      <th>6</th>\n",
       "      <td>75</td>\n",
       "      <td>12.31</td>\n",
       "      <td>2.439413</td>\n",
       "      <td>11,880</td>\n",
       "      <td>14.2%</td>\n",
       "      <td>21.2%</td>\n",
       "      <td>35.4%</td>\n",
       "      <td>10,407</td>\n",
       "      <td>27,332</td>\n",
       "      <td>-4,606</td>\n",
       "      <td>-3,786</td>\n",
       "      <td>12,320</td>\n",
       "      <td>13,140</td>\n",
       "    </tr>\n",
       "    <tr>\n",
       "      <th>7</th>\n",
       "      <td>100</td>\n",
       "      <td>18.66</td>\n",
       "      <td>2.734243</td>\n",
       "      <td>11,703</td>\n",
       "      <td>12.6%</td>\n",
       "      <td>22.3%</td>\n",
       "      <td>34.9%</td>\n",
       "      <td>13,173</td>\n",
       "      <td>30,369</td>\n",
       "      <td>-3,959</td>\n",
       "      <td>-3,364</td>\n",
       "      <td>13,237</td>\n",
       "      <td>13,831</td>\n",
       "    </tr>\n",
       "    <tr>\n",
       "      <th>8</th>\n",
       "      <td>200</td>\n",
       "      <td>5.24</td>\n",
       "      <td>2.927686</td>\n",
       "      <td>11,541</td>\n",
       "      <td>7.9%</td>\n",
       "      <td>27.4%</td>\n",
       "      <td>35.2%</td>\n",
       "      <td>17,469</td>\n",
       "      <td>32,135</td>\n",
       "      <td>-3,667</td>\n",
       "      <td>-3,053</td>\n",
       "      <td>10,999</td>\n",
       "      <td>11,613</td>\n",
       "    </tr>\n",
       "    <tr>\n",
       "      <th>9</th>\n",
       "      <td>1,000</td>\n",
       "      <td>0.11</td>\n",
       "      <td>2.874847</td>\n",
       "      <td>11,514</td>\n",
       "      <td>6.3%</td>\n",
       "      <td>36.0%</td>\n",
       "      <td>42.3%</td>\n",
       "      <td>31,649</td>\n",
       "      <td>31,272</td>\n",
       "      <td>-4,236</td>\n",
       "      <td>-3,459</td>\n",
       "      <td>-4,613</td>\n",
       "      <td>-3,836</td>\n",
       "    </tr>\n",
       "  </tbody>\n",
       "</table>\n",
       "</div>"
      ],
      "text/plain": [
       "  Wage and Salary Floor (Thousands) Tax Units (m)  Avg Tax Unit Size  \\\n",
       "0                                 0         61.87           1.568728   \n",
       "1                                10         14.41           1.777568   \n",
       "2                                20         15.25           1.872203   \n",
       "3                                30         12.41           1.918864   \n",
       "4                                40         10.62           2.026123   \n",
       "5                                50         19.00           2.174613   \n",
       "6                                75         12.31           2.439413   \n",
       "7                               100         18.66           2.734243   \n",
       "8                               200          5.24           2.927686   \n",
       "9                             1,000          0.11           2.874847   \n",
       "\n",
       "  Avg UBI Per Person Avg MTR - Payroll Avg MTR - Individual Income  \\\n",
       "0             12,318             14.2%                       13.3%   \n",
       "1             12,058             14.2%                       12.2%   \n",
       "2             12,027             14.2%                       14.8%   \n",
       "3             12,066             14.2%                       18.2%   \n",
       "4             12,044             14.2%                       18.9%   \n",
       "5             12,005             14.2%                       20.4%   \n",
       "6             11,880             14.2%                       21.2%   \n",
       "7             11,703             12.6%                       22.3%   \n",
       "8             11,541              7.9%                       27.4%   \n",
       "9             11,514              6.3%                       36.0%   \n",
       "\n",
       "  Avg MTR - Combined Avg Tax Change Avg UBI Per Tax Unit Avg Benefits Change  \\\n",
       "0              27.4%          3,082               18,663             -31,535   \n",
       "1              26.4%          5,517               20,060             -11,297   \n",
       "2              29.0%          6,169               21,042              -8,891   \n",
       "3              32.4%          6,460               21,678              -7,314   \n",
       "4              33.1%          7,006               22,849              -6,879   \n",
       "5              34.6%          8,104               24,545              -5,920   \n",
       "6              35.4%         10,407               27,332              -4,606   \n",
       "7              34.9%         13,173               30,369              -3,959   \n",
       "8              35.2%         17,469               32,135              -3,667   \n",
       "9              42.3%         31,649               31,272              -4,236   \n",
       "\n",
       "  Avg Benefits Change - Welfare Adj Avg Combined Change  \\\n",
       "0                           -25,956             -15,954   \n",
       "1                            -8,692               3,246   \n",
       "2                            -6,787               5,982   \n",
       "3                            -5,575               7,904   \n",
       "4                            -5,403               8,964   \n",
       "5                            -4,787              10,521   \n",
       "6                            -3,786              12,320   \n",
       "7                            -3,364              13,237   \n",
       "8                            -3,053              10,999   \n",
       "9                            -3,459              -4,613   \n",
       "\n",
       "  Avg Combined Change - Welfare Adj  \n",
       "0                           -10,375  \n",
       "1                             5,851  \n",
       "2                             8,086  \n",
       "3                             9,643  \n",
       "4                            10,439  \n",
       "5                            11,655  \n",
       "6                            13,140  \n",
       "7                            13,831  \n",
       "8                            11,613  \n",
       "9                            -3,836  "
      ]
     },
     "execution_count": 64,
     "metadata": {},
     "output_type": "execute_result"
    }
   ],
   "source": [
    "table_all = helpers.table(table_data, 'e00200', income_bins)\n",
    "table_all.to_csv('table_all.csv', index=False)\n",
    "table_all"
   ]
  },
  {
   "cell_type": "markdown",
   "metadata": {},
   "source": [
    "### Tax Units with Someone 65 or Older"
   ]
  },
  {
   "cell_type": "code",
   "execution_count": 65,
   "metadata": {},
   "outputs": [],
   "source": [
    "elderly_data = copy.deepcopy(table_data[table_data['65_plus'] == 1])"
   ]
  },
  {
   "cell_type": "code",
   "execution_count": 66,
   "metadata": {},
   "outputs": [
    {
     "data": {
      "text/html": [
       "<div>\n",
       "<style scoped>\n",
       "    .dataframe tbody tr th:only-of-type {\n",
       "        vertical-align: middle;\n",
       "    }\n",
       "\n",
       "    .dataframe tbody tr th {\n",
       "        vertical-align: top;\n",
       "    }\n",
       "\n",
       "    .dataframe thead th {\n",
       "        text-align: right;\n",
       "    }\n",
       "</style>\n",
       "<table border=\"1\" class=\"dataframe\">\n",
       "  <thead>\n",
       "    <tr style=\"text-align: right;\">\n",
       "      <th></th>\n",
       "      <th>Wage and Salary Floor (Thousands)</th>\n",
       "      <th>Tax Units (m)</th>\n",
       "      <th>Avg Tax Unit Size</th>\n",
       "      <th>Avg UBI Per Person</th>\n",
       "      <th>Avg MTR - Payroll</th>\n",
       "      <th>Avg MTR - Individual Income</th>\n",
       "      <th>Avg MTR - Combined</th>\n",
       "      <th>Avg Tax Change</th>\n",
       "      <th>Avg UBI Per Tax Unit</th>\n",
       "      <th>Avg Benefits Change</th>\n",
       "      <th>Avg Benefits Change - Welfare Adj</th>\n",
       "      <th>Avg Combined Change</th>\n",
       "      <th>Avg Combined Change - Welfare Adj</th>\n",
       "    </tr>\n",
       "  </thead>\n",
       "  <tbody>\n",
       "    <tr>\n",
       "      <th>0</th>\n",
       "      <td>0</td>\n",
       "      <td>27.44</td>\n",
       "      <td>1.499430</td>\n",
       "      <td>12,879</td>\n",
       "      <td>14.2%</td>\n",
       "      <td>15.6%</td>\n",
       "      <td>29.8%</td>\n",
       "      <td>2,805</td>\n",
       "      <td>19,165</td>\n",
       "      <td>-46,471</td>\n",
       "      <td>-40,056</td>\n",
       "      <td>-30,111</td>\n",
       "      <td>-23,696</td>\n",
       "    </tr>\n",
       "    <tr>\n",
       "      <th>1</th>\n",
       "      <td>10</td>\n",
       "      <td>1.41</td>\n",
       "      <td>1.742564</td>\n",
       "      <td>12,820</td>\n",
       "      <td>14.2%</td>\n",
       "      <td>14.4%</td>\n",
       "      <td>28.6%</td>\n",
       "      <td>4,622</td>\n",
       "      <td>22,073</td>\n",
       "      <td>-40,124</td>\n",
       "      <td>-34,879</td>\n",
       "      <td>-22,673</td>\n",
       "      <td>-17,427</td>\n",
       "    </tr>\n",
       "    <tr>\n",
       "      <th>2</th>\n",
       "      <td>20</td>\n",
       "      <td>1.21</td>\n",
       "      <td>1.827770</td>\n",
       "      <td>12,767</td>\n",
       "      <td>14.2%</td>\n",
       "      <td>15.5%</td>\n",
       "      <td>29.7%</td>\n",
       "      <td>5,104</td>\n",
       "      <td>22,952</td>\n",
       "      <td>-37,154</td>\n",
       "      <td>-32,371</td>\n",
       "      <td>-19,307</td>\n",
       "      <td>-14,523</td>\n",
       "    </tr>\n",
       "    <tr>\n",
       "      <th>3</th>\n",
       "      <td>30</td>\n",
       "      <td>0.93</td>\n",
       "      <td>1.902106</td>\n",
       "      <td>12,748</td>\n",
       "      <td>14.2%</td>\n",
       "      <td>17.3%</td>\n",
       "      <td>31.5%</td>\n",
       "      <td>5,370</td>\n",
       "      <td>23,737</td>\n",
       "      <td>-33,274</td>\n",
       "      <td>-29,136</td>\n",
       "      <td>-14,907</td>\n",
       "      <td>-10,769</td>\n",
       "    </tr>\n",
       "    <tr>\n",
       "      <th>4</th>\n",
       "      <td>40</td>\n",
       "      <td>0.82</td>\n",
       "      <td>1.938251</td>\n",
       "      <td>12,748</td>\n",
       "      <td>14.2%</td>\n",
       "      <td>18.2%</td>\n",
       "      <td>32.4%</td>\n",
       "      <td>5,456</td>\n",
       "      <td>24,265</td>\n",
       "      <td>-35,824</td>\n",
       "      <td>-31,408</td>\n",
       "      <td>-17,015</td>\n",
       "      <td>-12,598</td>\n",
       "    </tr>\n",
       "    <tr>\n",
       "      <th>5</th>\n",
       "      <td>50</td>\n",
       "      <td>1.55</td>\n",
       "      <td>1.970146</td>\n",
       "      <td>12,764</td>\n",
       "      <td>14.2%</td>\n",
       "      <td>20.6%</td>\n",
       "      <td>34.8%</td>\n",
       "      <td>6,150</td>\n",
       "      <td>24,725</td>\n",
       "      <td>-33,193</td>\n",
       "      <td>-29,234</td>\n",
       "      <td>-14,618</td>\n",
       "      <td>-10,658</td>\n",
       "    </tr>\n",
       "    <tr>\n",
       "      <th>6</th>\n",
       "      <td>75</td>\n",
       "      <td>0.87</td>\n",
       "      <td>2.082399</td>\n",
       "      <td>12,720</td>\n",
       "      <td>14.2%</td>\n",
       "      <td>21.3%</td>\n",
       "      <td>35.4%</td>\n",
       "      <td>7,792</td>\n",
       "      <td>25,979</td>\n",
       "      <td>-28,792</td>\n",
       "      <td>-25,824</td>\n",
       "      <td>-10,605</td>\n",
       "      <td>-7,637</td>\n",
       "    </tr>\n",
       "    <tr>\n",
       "      <th>7</th>\n",
       "      <td>100</td>\n",
       "      <td>1.33</td>\n",
       "      <td>2.170850</td>\n",
       "      <td>12,714</td>\n",
       "      <td>12.3%</td>\n",
       "      <td>22.9%</td>\n",
       "      <td>35.2%</td>\n",
       "      <td>9,068</td>\n",
       "      <td>27,047</td>\n",
       "      <td>-28,300</td>\n",
       "      <td>-25,414</td>\n",
       "      <td>-10,321</td>\n",
       "      <td>-7,435</td>\n",
       "    </tr>\n",
       "    <tr>\n",
       "      <th>8</th>\n",
       "      <td>200</td>\n",
       "      <td>0.41</td>\n",
       "      <td>2.251385</td>\n",
       "      <td>12,658</td>\n",
       "      <td>7.9%</td>\n",
       "      <td>28.4%</td>\n",
       "      <td>36.3%</td>\n",
       "      <td>12,174</td>\n",
       "      <td>27,843</td>\n",
       "      <td>-24,483</td>\n",
       "      <td>-22,119</td>\n",
       "      <td>-8,814</td>\n",
       "      <td>-6,450</td>\n",
       "    </tr>\n",
       "    <tr>\n",
       "      <th>9</th>\n",
       "      <td>1,001</td>\n",
       "      <td>0.01</td>\n",
       "      <td>2.099700</td>\n",
       "      <td>12,611</td>\n",
       "      <td>6.9%</td>\n",
       "      <td>35.9%</td>\n",
       "      <td>42.7%</td>\n",
       "      <td>21,990</td>\n",
       "      <td>26,045</td>\n",
       "      <td>-22,586</td>\n",
       "      <td>-21,231</td>\n",
       "      <td>-18,531</td>\n",
       "      <td>-17,176</td>\n",
       "    </tr>\n",
       "  </tbody>\n",
       "</table>\n",
       "</div>"
      ],
      "text/plain": [
       "  Wage and Salary Floor (Thousands) Tax Units (m)  Avg Tax Unit Size  \\\n",
       "0                                 0         27.44           1.499430   \n",
       "1                                10          1.41           1.742564   \n",
       "2                                20          1.21           1.827770   \n",
       "3                                30          0.93           1.902106   \n",
       "4                                40          0.82           1.938251   \n",
       "5                                50          1.55           1.970146   \n",
       "6                                75          0.87           2.082399   \n",
       "7                               100          1.33           2.170850   \n",
       "8                               200          0.41           2.251385   \n",
       "9                             1,001          0.01           2.099700   \n",
       "\n",
       "  Avg UBI Per Person Avg MTR - Payroll Avg MTR - Individual Income  \\\n",
       "0             12,879             14.2%                       15.6%   \n",
       "1             12,820             14.2%                       14.4%   \n",
       "2             12,767             14.2%                       15.5%   \n",
       "3             12,748             14.2%                       17.3%   \n",
       "4             12,748             14.2%                       18.2%   \n",
       "5             12,764             14.2%                       20.6%   \n",
       "6             12,720             14.2%                       21.3%   \n",
       "7             12,714             12.3%                       22.9%   \n",
       "8             12,658              7.9%                       28.4%   \n",
       "9             12,611              6.9%                       35.9%   \n",
       "\n",
       "  Avg MTR - Combined Avg Tax Change Avg UBI Per Tax Unit Avg Benefits Change  \\\n",
       "0              29.8%          2,805               19,165             -46,471   \n",
       "1              28.6%          4,622               22,073             -40,124   \n",
       "2              29.7%          5,104               22,952             -37,154   \n",
       "3              31.5%          5,370               23,737             -33,274   \n",
       "4              32.4%          5,456               24,265             -35,824   \n",
       "5              34.8%          6,150               24,725             -33,193   \n",
       "6              35.4%          7,792               25,979             -28,792   \n",
       "7              35.2%          9,068               27,047             -28,300   \n",
       "8              36.3%         12,174               27,843             -24,483   \n",
       "9              42.7%         21,990               26,045             -22,586   \n",
       "\n",
       "  Avg Benefits Change - Welfare Adj Avg Combined Change  \\\n",
       "0                           -40,056             -30,111   \n",
       "1                           -34,879             -22,673   \n",
       "2                           -32,371             -19,307   \n",
       "3                           -29,136             -14,907   \n",
       "4                           -31,408             -17,015   \n",
       "5                           -29,234             -14,618   \n",
       "6                           -25,824             -10,605   \n",
       "7                           -25,414             -10,321   \n",
       "8                           -22,119              -8,814   \n",
       "9                           -21,231             -18,531   \n",
       "\n",
       "  Avg Combined Change - Welfare Adj  \n",
       "0                           -23,696  \n",
       "1                           -17,427  \n",
       "2                           -14,523  \n",
       "3                           -10,769  \n",
       "4                           -12,598  \n",
       "5                           -10,658  \n",
       "6                            -7,637  \n",
       "7                            -7,435  \n",
       "8                            -6,450  \n",
       "9                           -17,176  "
      ]
     },
     "execution_count": 66,
     "metadata": {},
     "output_type": "execute_result"
    }
   ],
   "source": [
    "elderly_table = helpers.table(elderly_data, 'e00200', income_bins)\n",
    "elderly_table.to_csv('elderly_table.csv', index=False)\n",
    "elderly_table"
   ]
  },
  {
   "cell_type": "markdown",
   "metadata": {},
   "source": [
    "### Tax Units without Someone 65 or Older"
   ]
  },
  {
   "cell_type": "code",
   "execution_count": 67,
   "metadata": {},
   "outputs": [],
   "source": [
    "non_elderly_data = copy.deepcopy(table_data[table_data['65_plus'] == 0])"
   ]
  },
  {
   "cell_type": "code",
   "execution_count": 68,
   "metadata": {},
   "outputs": [
    {
     "data": {
      "text/html": [
       "<div>\n",
       "<style scoped>\n",
       "    .dataframe tbody tr th:only-of-type {\n",
       "        vertical-align: middle;\n",
       "    }\n",
       "\n",
       "    .dataframe tbody tr th {\n",
       "        vertical-align: top;\n",
       "    }\n",
       "\n",
       "    .dataframe thead th {\n",
       "        text-align: right;\n",
       "    }\n",
       "</style>\n",
       "<table border=\"1\" class=\"dataframe\">\n",
       "  <thead>\n",
       "    <tr style=\"text-align: right;\">\n",
       "      <th></th>\n",
       "      <th>Wage and Salary Floor (Thousands)</th>\n",
       "      <th>Tax Units (m)</th>\n",
       "      <th>Avg Tax Unit Size</th>\n",
       "      <th>Avg UBI Per Person</th>\n",
       "      <th>Avg MTR - Payroll</th>\n",
       "      <th>Avg MTR - Individual Income</th>\n",
       "      <th>Avg MTR - Combined</th>\n",
       "      <th>Avg Tax Change</th>\n",
       "      <th>Avg UBI Per Tax Unit</th>\n",
       "      <th>Avg Benefits Change</th>\n",
       "      <th>Avg Benefits Change - Welfare Adj</th>\n",
       "      <th>Avg Combined Change</th>\n",
       "      <th>Avg Combined Change - Welfare Adj</th>\n",
       "    </tr>\n",
       "  </thead>\n",
       "  <tbody>\n",
       "    <tr>\n",
       "      <th>0</th>\n",
       "      <td>0</td>\n",
       "      <td>34.43</td>\n",
       "      <td>1.623964</td>\n",
       "      <td>11,872</td>\n",
       "      <td>14.2%</td>\n",
       "      <td>11.4%</td>\n",
       "      <td>25.6%</td>\n",
       "      <td>3,303</td>\n",
       "      <td>18,263</td>\n",
       "      <td>-19,629</td>\n",
       "      <td>-14,718</td>\n",
       "      <td>-4,669</td>\n",
       "      <td>243</td>\n",
       "    </tr>\n",
       "    <tr>\n",
       "      <th>1</th>\n",
       "      <td>10</td>\n",
       "      <td>13.00</td>\n",
       "      <td>1.781374</td>\n",
       "      <td>11,975</td>\n",
       "      <td>14.2%</td>\n",
       "      <td>12.0%</td>\n",
       "      <td>26.2%</td>\n",
       "      <td>5,614</td>\n",
       "      <td>19,841</td>\n",
       "      <td>-8,164</td>\n",
       "      <td>-5,845</td>\n",
       "      <td>6,063</td>\n",
       "      <td>8,382</td>\n",
       "    </tr>\n",
       "    <tr>\n",
       "      <th>2</th>\n",
       "      <td>20</td>\n",
       "      <td>14.05</td>\n",
       "      <td>1.876024</td>\n",
       "      <td>11,963</td>\n",
       "      <td>14.2%</td>\n",
       "      <td>14.8%</td>\n",
       "      <td>29.0%</td>\n",
       "      <td>6,260</td>\n",
       "      <td>20,877</td>\n",
       "      <td>-6,460</td>\n",
       "      <td>-4,586</td>\n",
       "      <td>8,157</td>\n",
       "      <td>10,031</td>\n",
       "    </tr>\n",
       "    <tr>\n",
       "      <th>3</th>\n",
       "      <td>30</td>\n",
       "      <td>11.48</td>\n",
       "      <td>1.920224</td>\n",
       "      <td>12,010</td>\n",
       "      <td>14.2%</td>\n",
       "      <td>18.3%</td>\n",
       "      <td>32.5%</td>\n",
       "      <td>6,548</td>\n",
       "      <td>21,511</td>\n",
       "      <td>-5,207</td>\n",
       "      <td>-3,662</td>\n",
       "      <td>9,756</td>\n",
       "      <td>11,300</td>\n",
       "    </tr>\n",
       "    <tr>\n",
       "      <th>4</th>\n",
       "      <td>40</td>\n",
       "      <td>9.81</td>\n",
       "      <td>2.033449</td>\n",
       "      <td>11,985</td>\n",
       "      <td>14.2%</td>\n",
       "      <td>18.9%</td>\n",
       "      <td>33.1%</td>\n",
       "      <td>7,136</td>\n",
       "      <td>22,731</td>\n",
       "      <td>-4,466</td>\n",
       "      <td>-3,236</td>\n",
       "      <td>11,130</td>\n",
       "      <td>12,360</td>\n",
       "    </tr>\n",
       "    <tr>\n",
       "      <th>5</th>\n",
       "      <td>50</td>\n",
       "      <td>17.44</td>\n",
       "      <td>2.192809</td>\n",
       "      <td>11,937</td>\n",
       "      <td>14.2%</td>\n",
       "      <td>20.4%</td>\n",
       "      <td>34.6%</td>\n",
       "      <td>8,278</td>\n",
       "      <td>24,529</td>\n",
       "      <td>-3,493</td>\n",
       "      <td>-2,611</td>\n",
       "      <td>12,758</td>\n",
       "      <td>13,640</td>\n",
       "    </tr>\n",
       "    <tr>\n",
       "      <th>6</th>\n",
       "      <td>75</td>\n",
       "      <td>11.44</td>\n",
       "      <td>2.466706</td>\n",
       "      <td>11,816</td>\n",
       "      <td>14.2%</td>\n",
       "      <td>21.2%</td>\n",
       "      <td>35.4%</td>\n",
       "      <td>10,607</td>\n",
       "      <td>27,436</td>\n",
       "      <td>-2,757</td>\n",
       "      <td>-2,101</td>\n",
       "      <td>14,072</td>\n",
       "      <td>14,728</td>\n",
       "    </tr>\n",
       "    <tr>\n",
       "      <th>7</th>\n",
       "      <td>100</td>\n",
       "      <td>17.33</td>\n",
       "      <td>2.777592</td>\n",
       "      <td>11,625</td>\n",
       "      <td>12.6%</td>\n",
       "      <td>22.3%</td>\n",
       "      <td>34.9%</td>\n",
       "      <td>13,489</td>\n",
       "      <td>30,624</td>\n",
       "      <td>-2,086</td>\n",
       "      <td>-1,668</td>\n",
       "      <td>15,049</td>\n",
       "      <td>15,468</td>\n",
       "    </tr>\n",
       "    <tr>\n",
       "      <th>8</th>\n",
       "      <td>200</td>\n",
       "      <td>4.83</td>\n",
       "      <td>2.985243</td>\n",
       "      <td>11,446</td>\n",
       "      <td>7.8%</td>\n",
       "      <td>27.3%</td>\n",
       "      <td>35.1%</td>\n",
       "      <td>17,920</td>\n",
       "      <td>32,500</td>\n",
       "      <td>-1,896</td>\n",
       "      <td>-1,431</td>\n",
       "      <td>12,685</td>\n",
       "      <td>13,150</td>\n",
       "    </tr>\n",
       "    <tr>\n",
       "      <th>9</th>\n",
       "      <td>1,000</td>\n",
       "      <td>0.10</td>\n",
       "      <td>2.950728</td>\n",
       "      <td>11,407</td>\n",
       "      <td>6.3%</td>\n",
       "      <td>36.0%</td>\n",
       "      <td>42.3%</td>\n",
       "      <td>32,595</td>\n",
       "      <td>31,784</td>\n",
       "      <td>-2,440</td>\n",
       "      <td>-1,719</td>\n",
       "      <td>-3,250</td>\n",
       "      <td>-2,530</td>\n",
       "    </tr>\n",
       "  </tbody>\n",
       "</table>\n",
       "</div>"
      ],
      "text/plain": [
       "  Wage and Salary Floor (Thousands) Tax Units (m)  Avg Tax Unit Size  \\\n",
       "0                                 0         34.43           1.623964   \n",
       "1                                10         13.00           1.781374   \n",
       "2                                20         14.05           1.876024   \n",
       "3                                30         11.48           1.920224   \n",
       "4                                40          9.81           2.033449   \n",
       "5                                50         17.44           2.192809   \n",
       "6                                75         11.44           2.466706   \n",
       "7                               100         17.33           2.777592   \n",
       "8                               200          4.83           2.985243   \n",
       "9                             1,000          0.10           2.950728   \n",
       "\n",
       "  Avg UBI Per Person Avg MTR - Payroll Avg MTR - Individual Income  \\\n",
       "0             11,872             14.2%                       11.4%   \n",
       "1             11,975             14.2%                       12.0%   \n",
       "2             11,963             14.2%                       14.8%   \n",
       "3             12,010             14.2%                       18.3%   \n",
       "4             11,985             14.2%                       18.9%   \n",
       "5             11,937             14.2%                       20.4%   \n",
       "6             11,816             14.2%                       21.2%   \n",
       "7             11,625             12.6%                       22.3%   \n",
       "8             11,446              7.8%                       27.3%   \n",
       "9             11,407              6.3%                       36.0%   \n",
       "\n",
       "  Avg MTR - Combined Avg Tax Change Avg UBI Per Tax Unit Avg Benefits Change  \\\n",
       "0              25.6%          3,303               18,263             -19,629   \n",
       "1              26.2%          5,614               19,841              -8,164   \n",
       "2              29.0%          6,260               20,877              -6,460   \n",
       "3              32.5%          6,548               21,511              -5,207   \n",
       "4              33.1%          7,136               22,731              -4,466   \n",
       "5              34.6%          8,278               24,529              -3,493   \n",
       "6              35.4%         10,607               27,436              -2,757   \n",
       "7              34.9%         13,489               30,624              -2,086   \n",
       "8              35.1%         17,920               32,500              -1,896   \n",
       "9              42.3%         32,595               31,784              -2,440   \n",
       "\n",
       "  Avg Benefits Change - Welfare Adj Avg Combined Change  \\\n",
       "0                           -14,718              -4,669   \n",
       "1                            -5,845               6,063   \n",
       "2                            -4,586               8,157   \n",
       "3                            -3,662               9,756   \n",
       "4                            -3,236              11,130   \n",
       "5                            -2,611              12,758   \n",
       "6                            -2,101              14,072   \n",
       "7                            -1,668              15,049   \n",
       "8                            -1,431              12,685   \n",
       "9                            -1,719              -3,250   \n",
       "\n",
       "  Avg Combined Change - Welfare Adj  \n",
       "0                               243  \n",
       "1                             8,382  \n",
       "2                            10,031  \n",
       "3                            11,300  \n",
       "4                            12,360  \n",
       "5                            13,640  \n",
       "6                            14,728  \n",
       "7                            15,468  \n",
       "8                            13,150  \n",
       "9                            -2,530  "
      ]
     },
     "execution_count": 68,
     "metadata": {},
     "output_type": "execute_result"
    }
   ],
   "source": [
    "non_elderly_table = helpers.table(non_elderly_data, 'e00200', income_bins)\n",
    "non_elderly_table.to_csv('non_elderly_table.csv', index=False)\n",
    "non_elderly_table"
   ]
  },
  {
   "cell_type": "code",
   "execution_count": 69,
   "metadata": {},
   "outputs": [
    {
     "data": {
      "text/html": [
       "\n",
       "<div class=\"bk-root\">\n",
       "    <div class=\"bk-plotdiv\" id=\"b83991ef-71e2-4ff5-84cf-f502e2f40299\"></div>\n",
       "</div>"
      ]
     },
     "metadata": {},
     "output_type": "display_data"
    },
    {
     "data": {
      "application/javascript": [
       "(function(root) {\n",
       "  function embed_document(root) {\n",
       "    \n",
       "  var docs_json = {\"4dca7c55-a305-4151-9f3f-831212bda51f\":{\"roots\":{\"references\":[{\"attributes\":{\"source\":{\"id\":\"b8fcc3bd-2401-4670-9001-522793df5a79\",\"type\":\"ColumnDataSource\"}},\"id\":\"2a61cbe1-1b26-4223-be8e-2a55b7fb52c1\",\"type\":\"CDSView\"},{\"attributes\":{},\"id\":\"34c9e842-7f52-482c-9aa3-d973eb94d854\",\"type\":\"BasicTickFormatter\"},{\"attributes\":{},\"id\":\"1e4957b5-788f-4d90-8051-8bec6a0c415a\",\"type\":\"BasicTicker\"},{\"attributes\":{\"bottom_units\":\"screen\",\"fill_alpha\":{\"value\":0.5},\"fill_color\":{\"value\":\"lightgrey\"},\"left_units\":\"screen\",\"level\":\"overlay\",\"line_alpha\":{\"value\":1.0},\"line_color\":{\"value\":\"black\"},\"line_dash\":[4,4],\"line_width\":{\"value\":2},\"plot\":null,\"render_mode\":\"css\",\"right_units\":\"screen\",\"top_units\":\"screen\"},\"id\":\"9aea8535-7120-4c00-8600-286a079d638c\",\"type\":\"BoxAnnotation\"},{\"attributes\":{},\"id\":\"9fff81e1-f0c1-4da3-879e-c96227fcb217\",\"type\":\"BasicTickFormatter\"},{\"attributes\":{\"data_source\":{\"id\":\"712751d0-f87f-4b90-a054-5c6ae00bc7fb\",\"type\":\"ColumnDataSource\"},\"glyph\":{\"id\":\"0f551bdc-a773-4cb5-a8c7-1ae0bcd94dc3\",\"type\":\"Line\"},\"hover_glyph\":null,\"muted_glyph\":null,\"nonselection_glyph\":{\"id\":\"916581a8-71ba-481b-8ba3-3eb435efbc9d\",\"type\":\"Line\"},\"selection_glyph\":null,\"view\":{\"id\":\"c7088149-649a-4d9f-a1ea-2e1599ebf138\",\"type\":\"CDSView\"}},\"id\":\"ba688bbd-c7cd-4ff3-911c-62a51cc4ce61\",\"type\":\"GlyphRenderer\"},{\"attributes\":{\"data_source\":{\"id\":\"09091624-83a0-45b0-836f-0d1bdc788630\",\"type\":\"ColumnDataSource\"},\"glyph\":{\"id\":\"648b4643-3f87-4c26-b715-92d17368ed73\",\"type\":\"Circle\"},\"hover_glyph\":null,\"muted_glyph\":null,\"nonselection_glyph\":{\"id\":\"47b2f41a-2c48-4e84-83bb-6d75d9f75ece\",\"type\":\"Circle\"},\"selection_glyph\":null,\"view\":{\"id\":\"5730fd98-f79a-4b11-bce0-ae39b8a205de\",\"type\":\"CDSView\"},\"visible\":false},\"id\":\"c74d1adb-98e9-44dd-bf49-c7a194196a1d\",\"type\":\"GlyphRenderer\"},{\"attributes\":{\"dimension\":1,\"plot\":{\"id\":\"34c01514-456a-4db9-b001-ceaa829aab25\",\"subtype\":\"Figure\",\"type\":\"Plot\"},\"ticker\":{\"id\":\"1e4957b5-788f-4d90-8051-8bec6a0c415a\",\"type\":\"BasicTicker\"}},\"id\":\"6a798914-3d7d-40fc-99fa-ef5650f8ebf4\",\"type\":\"Grid\"},{\"attributes\":{\"line_color\":\"red\",\"line_width\":3,\"x\":{\"field\":\"x\"},\"y\":{\"field\":\"y\"}},\"id\":\"0f551bdc-a773-4cb5-a8c7-1ae0bcd94dc3\",\"type\":\"Line\"},{\"attributes\":{\"active_drag\":\"auto\",\"active_inspect\":\"auto\",\"active_scroll\":\"auto\",\"active_tap\":\"auto\",\"tools\":[{\"id\":\"57407ac1-acc0-4a85-9c20-3dfb4b744833\",\"type\":\"PanTool\"},{\"id\":\"e893c9d5-781a-4500-b513-f1a848eb16ea\",\"type\":\"WheelZoomTool\"},{\"id\":\"339c352c-467b-4c88-a2a9-52de7a1653da\",\"type\":\"BoxZoomTool\"},{\"id\":\"7e966fb3-ff30-4a38-8252-618506fc2d71\",\"type\":\"SaveTool\"},{\"id\":\"14254dab-a1c7-43ef-b388-626a760f1315\",\"type\":\"ResetTool\"},{\"id\":\"b9c5d0ec-cfa7-4b7d-9d16-61dbe21aba1c\",\"type\":\"HelpTool\"}]},\"id\":\"939b8fab-b04f-48e1-8ee8-b4fceff84063\",\"type\":\"Toolbar\"},{\"attributes\":{},\"id\":\"7e966fb3-ff30-4a38-8252-618506fc2d71\",\"type\":\"SaveTool\"},{\"attributes\":{\"callback\":null,\"data\":{}},\"id\":\"09091624-83a0-45b0-836f-0d1bdc788630\",\"type\":\"ColumnDataSource\"},{\"attributes\":{},\"id\":\"57407ac1-acc0-4a85-9c20-3dfb4b744833\",\"type\":\"PanTool\"},{\"attributes\":{\"fill_color\":{\"value\":\"#1f77b4\"},\"line_color\":{\"value\":\"#1f77b4\"},\"x\":{\"value\":0},\"y\":{\"value\":0}},\"id\":\"648b4643-3f87-4c26-b715-92d17368ed73\",\"type\":\"Circle\"},{\"attributes\":{\"plot\":{\"id\":\"34c01514-456a-4db9-b001-ceaa829aab25\",\"subtype\":\"Figure\",\"type\":\"Plot\"},\"ticker\":{\"id\":\"d4fec086-7039-4bda-97b2-54607fa66b80\",\"type\":\"BasicTicker\"}},\"id\":\"3e1914de-1074-4066-a056-faff269e12b0\",\"type\":\"Grid\"},{\"attributes\":{\"glyph_height\":14,\"glyph_width\":14,\"items\":[{\"id\":\"476d21f3-e66d-43d5-b611-e84fce09caf2\",\"type\":\"LegendItem\"},{\"id\":\"fe49f3e2-aaaf-404c-ba89-92b39c07bc71\",\"type\":\"LegendItem\"}],\"label_height\":2,\"label_standoff\":2,\"label_text_font\":\"times\",\"label_text_font_style\":\"italic\",\"label_width\":2,\"location\":\"bottom_right\",\"padding\":5,\"plot\":{\"id\":\"34c01514-456a-4db9-b001-ceaa829aab25\",\"subtype\":\"Figure\",\"type\":\"Plot\"},\"spacing\":5},\"id\":\"24d9e455-e544-418e-9430-8e3f2f7e4984\",\"type\":\"Legend\"},{\"attributes\":{},\"id\":\"e893c9d5-781a-4500-b513-f1a848eb16ea\",\"type\":\"WheelZoomTool\"},{\"attributes\":{\"fill_alpha\":{\"value\":0.1},\"fill_color\":{\"value\":\"#1f77b4\"},\"line_alpha\":{\"value\":0.1},\"line_color\":{\"value\":\"#1f77b4\"},\"x\":{\"value\":0},\"y\":{\"value\":0}},\"id\":\"47b2f41a-2c48-4e84-83bb-6d75d9f75ece\",\"type\":\"Circle\"},{\"attributes\":{},\"id\":\"c4e69ed0-fec0-464e-a220-fe9f9dd94aec\",\"type\":\"LinearScale\"},{\"attributes\":{\"line_alpha\":0.1,\"line_color\":\"#1f77b4\",\"line_width\":3,\"x\":{\"field\":\"x\"},\"y\":{\"field\":\"y\"}},\"id\":\"fb8781b6-bd30-4725-a5a2-3e7987625263\",\"type\":\"Line\"},{\"attributes\":{\"overlay\":{\"id\":\"9aea8535-7120-4c00-8600-286a079d638c\",\"type\":\"BoxAnnotation\"}},\"id\":\"339c352c-467b-4c88-a2a9-52de7a1653da\",\"type\":\"BoxZoomTool\"},{\"attributes\":{\"label\":{\"value\":\"Baseline\"},\"renderers\":[{\"id\":\"85b861ed-42e4-42b3-85ea-8cfb78b824aa\",\"type\":\"GlyphRenderer\"}]},\"id\":\"476d21f3-e66d-43d5-b611-e84fce09caf2\",\"type\":\"LegendItem\"},{\"attributes\":{\"data_source\":{\"id\":\"b8fcc3bd-2401-4670-9001-522793df5a79\",\"type\":\"ColumnDataSource\"},\"glyph\":{\"id\":\"bcd8971f-d955-4836-83b8-2c5f052275f9\",\"type\":\"Line\"},\"hover_glyph\":null,\"muted_glyph\":null,\"nonselection_glyph\":{\"id\":\"fb8781b6-bd30-4725-a5a2-3e7987625263\",\"type\":\"Line\"},\"selection_glyph\":null,\"view\":{\"id\":\"2a61cbe1-1b26-4223-be8e-2a55b7fb52c1\",\"type\":\"CDSView\"}},\"id\":\"85b861ed-42e4-42b3-85ea-8cfb78b824aa\",\"type\":\"GlyphRenderer\"},{\"attributes\":{\"line_alpha\":0.1,\"line_color\":\"#1f77b4\",\"line_width\":3,\"x\":{\"field\":\"x\"},\"y\":{\"field\":\"y\"}},\"id\":\"916581a8-71ba-481b-8ba3-3eb435efbc9d\",\"type\":\"Line\"},{\"attributes\":{\"callback\":null},\"id\":\"c82a37bd-ab14-4daf-b6d9-c549634d053d\",\"type\":\"DataRange1d\"},{\"attributes\":{},\"id\":\"b9c5d0ec-cfa7-4b7d-9d16-61dbe21aba1c\",\"type\":\"HelpTool\"},{\"attributes\":{\"axis_label\":\"Baseline Expanded-Income Percentile\",\"axis_label_text_font_size\":{\"value\":\"12pt\"},\"axis_label_text_font_style\":\"normal\",\"formatter\":{\"id\":\"34c9e842-7f52-482c-9aa3-d973eb94d854\",\"type\":\"BasicTickFormatter\"},\"plot\":{\"id\":\"34c01514-456a-4db9-b001-ceaa829aab25\",\"subtype\":\"Figure\",\"type\":\"Plot\"},\"ticker\":{\"id\":\"d4fec086-7039-4bda-97b2-54607fa66b80\",\"type\":\"BasicTicker\"}},\"id\":\"6dbe6cb5-ffa5-44c6-adbc-d1992a414d4b\",\"type\":\"LinearAxis\"},{\"attributes\":{\"line_color\":\"blue\",\"line_width\":3,\"x\":{\"field\":\"x\"},\"y\":{\"field\":\"y\"}},\"id\":\"bcd8971f-d955-4836-83b8-2c5f052275f9\",\"type\":\"Line\"},{\"attributes\":{\"label\":{\"value\":\"Reform\"},\"renderers\":[{\"id\":\"ba688bbd-c7cd-4ff3-911c-62a51cc4ce61\",\"type\":\"GlyphRenderer\"}]},\"id\":\"fe49f3e2-aaaf-404c-ba89-92b39c07bc71\",\"type\":\"LegendItem\"},{\"attributes\":{\"source\":{\"id\":\"09091624-83a0-45b0-836f-0d1bdc788630\",\"type\":\"ColumnDataSource\"}},\"id\":\"5730fd98-f79a-4b11-bce0-ae39b8a205de\",\"type\":\"CDSView\"},{\"attributes\":{\"callback\":null,\"column_names\":[\"x\",\"y\"],\"data\":{\"x\":[0,1,2,3,4,5,6,7,8,9,10,11,12,13,14,15,16,17,18,19,20,21,22,23,24,25,26,27,28,29,30,31,32,33,34,35,36,37,38,39,40,41,42,43,44,45,46,47,48,49,50,51,52,53,54,55,56,57,58,59,60,61,62,63,64,65,66,67,68,69,70,71,72,73,74,75,76,77,78,79,80,81,82,83,84,85,86,87,88,89,90,91,92,93,94,95,96,97,98,99],\"y\":{\"__ndarray__\":\"XtZV1ohByD+G5ZVUI5zIP11sLIrFR8k/dZrzL/kzyD8P95smfo7IP8GGR1tqk8g/Uo2Y0OqkyD8ncN0MmaDIPzxe3iDOlMg/7+H4ofhSyD/KgjQVL4TIP6MtUkpldMg//+5n1Ypkxz8054WCDa7HP57FvVCA58c/rlFjCaNKyD8r4mcBeAzIP+KXjCOpk8g/9b2DXwHmyD/EofkuO+XIP9oYbIFGfsk/ZwSUKaZHyj9wHcRDFhzMP44UNHpVK80/2yQe1t41zT+/SiBVLITPP8qXHs1jY9A/Qq3iy/+B0D94R6IcWcjQP4/seCzZ9NA/J601uiDy0D/Xcvsg4d3QP51X7g4t/NA/AOnoLUUD0T9RG2cUkjvRPze0+2TsLdE/vdfwNBQ80T9ZSSoP0kvRP0wtuHN4RNE/gNngLgUx0T8Dm6+WP0nRP2mFDSqGRNE/qdeDO9JT0T8UPpS3+ljRP1XftBYpW9E/A6YzpqNd0T8Mv61HKmLRP43QXICWaNE/Hx/xfrli0T8Ckf25T2vRPyOQZ3hnutE/UL3bq8TC0T+I7Zke5svSPxmKaXIm4dM/4zRRPsDe0z/tGiebWcPTPzVwHA2VzNM/EzP9xAmT1D9QjRrlzeDUP1THE/Q1mtQ/EuOQxji01D+7/oT9zKfUP7gEuy76+dQ/uS1Za0qp1D93bBcplb/UP8n2wc9L0tQ/VfVH697a1D8SDA4pzIbUP7t6EfoXp9Q/7Z3WxECG1D8we876ok/UPyustY0zVtQ/a6Ze91511D/Xv0rs117UP16E0w1Ge9U/vVBig25C1j+hUf2abYPWP28AxRwZ0dc/1z51zjHz1z9/SnCEaPvXP4d+CdiIFdg/eqY5YZsV2D/cA5ptDQ3YP+ei4ieYH9g/Ve0mp40P2D9X09GQ6RDYP5j0RDwDGNg/BHPiMcoe2D+ly6XnPLLXP1oq+dbGvtY/Mhnk1MGa1j/pQO/ny5rWP25BQq2S/dY/o2OAjr9S1z9hgpoFtDbXPziFRRdpENc/a0N3rtW01j+0Lf/e7rjWP9pyIUGlTtc/h3wYfImJ2z8=\",\"dtype\":\"float64\",\"shape\":[100]}}},\"id\":\"b8fcc3bd-2401-4670-9001-522793df5a79\",\"type\":\"ColumnDataSource\"},{\"attributes\":{\"callback\":null,\"column_names\":[\"x\",\"y\"],\"data\":{\"x\":[0,1,2,3,4,5,6,7,8,9,10,11,12,13,14,15,16,17,18,19,20,21,22,23,24,25,26,27,28,29,30,31,32,33,34,35,36,37,38,39,40,41,42,43,44,45,46,47,48,49,50,51,52,53,54,55,56,57,58,59,60,61,62,63,64,65,66,67,68,69,70,71,72,73,74,75,76,77,78,79,80,81,82,83,84,85,86,87,88,89,90,91,92,93,94,95,96,97,98,99],\"y\":{\"__ndarray__\":\"+E8El6j40T87qjI98FnSP9NNsASIXdI/cLGVxzZt0j+gsE9lUXbSP6GA0TtbddI/nYhuM+6X0j9e94oCUnTSP+hn9Y+6Z9I/sU1pt5mg0j+QNp8RSG/SP7h/wk31zNI/W/amwuWa0j/4MetTSh/SPxtgHPqCe9E/jkSYVzl20T/XBO6UlFnRP6xnOloYftE/3EeJSjWI0T8gfg7f3UPRP+PepAEP8tA/xHnQANr80D/KvF4X1DHRPwdEzUTKOdE/AgEquk800T/s/5bsFFfRPwVH1HepQ9E/Dv9/wwZs0T99b3SI15DRP6IB3gj9v9E/LDvem6u20T8lS2JXWcvRP7TeH/Mn1tE/wCkEPaD60T9v77WZpT3SPwXa+kauSdI/pqAc8VE00j8hwpTw2zbSP9SN7s2qUdI/f3DvQGGb0j8S4D9HVDfUP6BaBNRu2dQ/zDfs5EbY1D/yPAzfcevUP/sh/7AU+9Q/71RYF1cc1T/gXae4CpfVPwbajUQv+9U/XkNw/5kD1j+AfreNsQvWP4LdcLH7FNY/kUZavrsY1j8s/MkYhwXWP/X5UrWPHtY/xpQaLcJA1j+49fASQBjWP1vyl+PCFdY/HL7PzIdW1j80b+irhWjWP0DR+Bf2UNY/AyRFtKeN1j8mcBT1muTWPw9z+EpCM9c/G3PUmboq1z+ow0DS50PXP+8Cnu9+m9c/FhD9dvLG1z+zDdBTPLXXP1Z9STYWz9c/jvmNTMjS1z/eFL52M9fXP0gJDl/aHNg/Ee7wAtQQ2D8gi4Ej7B7YP48r1aSnKNg/NcJM4Iwx2D89QaXgMjfYP1955WCkNdg/1GM2PoZF2D/cTsC0EiTYPxgQZp7RRdg/cy/wn4s02D/WB9wavyzYP91S2C12Ndg/ToRnQpor2D89ucWQ2S3YP47JftWaPdg/Y70oAdhN2D/96s7ugA/YP75qVnciZNc/QAkIQGyo1z+74x9T2O3XP0PHjosl79c/Juyv26+o1z+6ctCAQnHXP1THoPYORNc/uwIv1Lbt1j9Tf4t7f9rWPz1YYtcB8dg/PV7533DW2z8=\",\"dtype\":\"float64\",\"shape\":[100]}}},\"id\":\"712751d0-f87f-4b90-a054-5c6ae00bc7fb\",\"type\":\"ColumnDataSource\"},{\"attributes\":{},\"id\":\"e9f2101f-a6f8-4cbe-8c8d-3fb4abcdbb1c\",\"type\":\"LinearScale\"},{\"attributes\":{\"source\":{\"id\":\"712751d0-f87f-4b90-a054-5c6ae00bc7fb\",\"type\":\"ColumnDataSource\"}},\"id\":\"c7088149-649a-4d9f-a1ea-2e1599ebf138\",\"type\":\"CDSView\"},{\"attributes\":{\"axis_label\":\"Income+Payroll-Tax MTR\",\"axis_label_text_font_size\":{\"value\":\"12pt\"},\"axis_label_text_font_style\":\"normal\",\"formatter\":{\"id\":\"9fff81e1-f0c1-4da3-879e-c96227fcb217\",\"type\":\"BasicTickFormatter\"},\"plot\":{\"id\":\"34c01514-456a-4db9-b001-ceaa829aab25\",\"subtype\":\"Figure\",\"type\":\"Plot\"},\"ticker\":{\"id\":\"1e4957b5-788f-4d90-8051-8bec6a0c415a\",\"type\":\"BasicTicker\"}},\"id\":\"7d94d54c-4ef0-4e27-94ac-ff6ca3f55943\",\"type\":\"LinearAxis\"},{\"attributes\":{\"below\":[{\"id\":\"6dbe6cb5-ffa5-44c6-adbc-d1992a414d4b\",\"type\":\"LinearAxis\"}],\"left\":[{\"id\":\"7d94d54c-4ef0-4e27-94ac-ff6ca3f55943\",\"type\":\"LinearAxis\"}],\"plot_height\":500,\"plot_width\":850,\"renderers\":[{\"id\":\"6dbe6cb5-ffa5-44c6-adbc-d1992a414d4b\",\"type\":\"LinearAxis\"},{\"id\":\"3e1914de-1074-4066-a056-faff269e12b0\",\"type\":\"Grid\"},{\"id\":\"7d94d54c-4ef0-4e27-94ac-ff6ca3f55943\",\"type\":\"LinearAxis\"},{\"id\":\"6a798914-3d7d-40fc-99fa-ef5650f8ebf4\",\"type\":\"Grid\"},{\"id\":\"9aea8535-7120-4c00-8600-286a079d638c\",\"type\":\"BoxAnnotation\"},{\"id\":\"24d9e455-e544-418e-9430-8e3f2f7e4984\",\"type\":\"Legend\"},{\"id\":\"85b861ed-42e4-42b3-85ea-8cfb78b824aa\",\"type\":\"GlyphRenderer\"},{\"id\":\"ba688bbd-c7cd-4ff3-911c-62a51cc4ce61\",\"type\":\"GlyphRenderer\"},{\"id\":\"c74d1adb-98e9-44dd-bf49-c7a194196a1d\",\"type\":\"GlyphRenderer\"}],\"title\":{\"id\":\"b72eccdd-f8c6-488c-b364-39ce4a1570aa\",\"type\":\"Title\"},\"toolbar\":{\"id\":\"939b8fab-b04f-48e1-8ee8-b4fceff84063\",\"type\":\"Toolbar\"},\"x_range\":{\"id\":\"afcec666-2448-4db8-a7e1-31f86696a14c\",\"type\":\"DataRange1d\"},\"x_scale\":{\"id\":\"e9f2101f-a6f8-4cbe-8c8d-3fb4abcdbb1c\",\"type\":\"LinearScale\"},\"y_range\":{\"id\":\"c82a37bd-ab14-4daf-b6d9-c549634d053d\",\"type\":\"DataRange1d\"},\"y_scale\":{\"id\":\"c4e69ed0-fec0-464e-a220-fe9f9dd94aec\",\"type\":\"LinearScale\"}},\"id\":\"34c01514-456a-4db9-b001-ceaa829aab25\",\"subtype\":\"Figure\",\"type\":\"Plot\"},{\"attributes\":{\"plot\":null,\"text\":\"Mean Marginal Tax Rate for e00200p by Income Percentile for 2018\",\"text_font_size\":{\"value\":\"12pt\"}},\"id\":\"b72eccdd-f8c6-488c-b364-39ce4a1570aa\",\"type\":\"Title\"},{\"attributes\":{},\"id\":\"14254dab-a1c7-43ef-b388-626a760f1315\",\"type\":\"ResetTool\"},{\"attributes\":{},\"id\":\"d4fec086-7039-4bda-97b2-54607fa66b80\",\"type\":\"BasicTicker\"},{\"attributes\":{\"callback\":null},\"id\":\"afcec666-2448-4db8-a7e1-31f86696a14c\",\"type\":\"DataRange1d\"}],\"root_ids\":[\"34c01514-456a-4db9-b001-ceaa829aab25\"]},\"title\":\"Bokeh Application\",\"version\":\"0.12.14\"}};\n",
       "  var render_items = [{\"docid\":\"4dca7c55-a305-4151-9f3f-831212bda51f\",\"elementid\":\"b83991ef-71e2-4ff5-84cf-f502e2f40299\",\"modelid\":\"34c01514-456a-4db9-b001-ceaa829aab25\"}];\n",
       "  root.Bokeh.embed.embed_items_notebook(docs_json, render_items);\n",
       "\n",
       "  }\n",
       "  if (root.Bokeh !== undefined) {\n",
       "    embed_document(root);\n",
       "  } else {\n",
       "    var attempts = 0;\n",
       "    var timer = setInterval(function(root) {\n",
       "      if (root.Bokeh !== undefined) {\n",
       "        embed_document(root);\n",
       "        clearInterval(timer);\n",
       "      }\n",
       "      attempts++;\n",
       "      if (attempts > 100) {\n",
       "        console.log(\"Bokeh: ERROR: Unable to run BokehJS code because BokehJS library is missing\")\n",
       "        clearInterval(timer);\n",
       "      }\n",
       "    }, 10, root)\n",
       "  }\n",
       "})(window);"
      ],
      "application/vnd.bokehjs_exec.v0+json": ""
     },
     "metadata": {
      "application/vnd.bokehjs_exec.v0+json": {
       "id": "34c01514-456a-4db9-b001-ceaa829aab25"
      }
     },
     "output_type": "display_data"
    }
   ],
   "source": [
    "reform_ubi = calc_reform.mtr_graph(calc_ubi)\n",
    "show(reform_ubi)"
   ]
  },
  {
   "cell_type": "markdown",
   "metadata": {},
   "source": [
    "## 10-Year Calculations with Initial UBI"
   ]
  },
  {
   "cell_type": "code",
   "execution_count": 71,
   "metadata": {},
   "outputs": [
    {
     "name": "stdout",
     "output_type": "stream",
     "text": [
      "You loaded data for 2014.\n",
      "Tax-Calculator startup automatically extrapolated your data to 2014.\n"
     ]
    }
   ],
   "source": [
    "rec_10yr = tc.Records.cps_constructor()\n",
    "pol_10yr = tc.Policy()\n",
    "pol_10yr.implement_reform(params['policy'])\n",
    "# UBI reform defined above\n",
    "pol_10yr.implement_reform(ubi_reform)\n",
    "calc_10yr = tc.Calculator(records=rec_10yr, policy=pol_10yr)\n",
    "calc_10yr.advance_to_year(start_yr)\n",
    "calc_10yr.calc_all()"
   ]
  },
  {
   "cell_type": "code",
   "execution_count": 72,
   "metadata": {},
   "outputs": [],
   "source": [
    "# dictionaries for storing data\n",
    "var_list = ['ubi', 'combined', 'benefit_cost_total', 'benefit_value_total']\n",
    "ubi_dict = {'year': [2018]}\n",
    "base_dict = {'year': [2018]}\n",
    "for var in var_list:\n",
    "    ubi_dict[var] = [calc_10yr.weighted_total(var)]\n",
    "    base_dict[var] = [calc_base.weighted_total(var)]"
   ]
  },
  {
   "cell_type": "code",
   "execution_count": 73,
   "metadata": {},
   "outputs": [],
   "source": [
    "# 10 year calculations\n",
    "for year in range(start_yr + 1, end_yr + 1):\n",
    "    calc_base.advance_to_year(year)\n",
    "    calc_base.calc_all()\n",
    "    calc_10yr.advance_to_year(year)\n",
    "    calc_10yr.calc_all()\n",
    "    for var in var_list:\n",
    "        ubi_dict[var].append(calc_10yr.weighted_total(var))\n",
    "        base_dict[var].append(calc_base.weighted_total(var))\n",
    "    ubi_dict['year'].append(year)\n",
    "    base_dict['year'].append(year)"
   ]
  },
  {
   "cell_type": "code",
   "execution_count": 74,
   "metadata": {},
   "outputs": [],
   "source": [
    "# convert to data frames for processing\n",
    "ubi_df = pd.DataFrame(ubi_dict)\n",
    "base_df = pd.DataFrame(base_dict)\n",
    "ubi_df['ubi_cumsum'] = ubi_df['ubi'].cumsum()"
   ]
  },
  {
   "cell_type": "markdown",
   "metadata": {},
   "source": [
    "## Revenue Effects"
   ]
  },
  {
   "cell_type": "code",
   "execution_count": 75,
   "metadata": {},
   "outputs": [
    {
     "name": "stdout",
     "output_type": "stream",
     "text": [
      "Tax Revenue Change:      $14,292,683,052,864.35\n",
      "Benefit Cost Savings:    $33,140,130,705,886.39\n",
      "Total Available Revenue: $47,432,813,758,750.75\n",
      "Total UBI Cost:          $44,743,914,953,356.54\n",
      "-----------------------------------------------\n",
      "Difference:              $-2,688,898,805,394.21\n"
     ]
    }
   ],
   "source": [
    "total_ubi = ubi_df['ubi'].sum()\n",
    "tax_revenue_change = ubi_df['combined'].sum() - base_df['combined'].sum()\n",
    "benefit_savings = base_df['benefit_cost_total'].sum() - ubi_df['benefit_cost_total'].sum()\n",
    "total_revenue_available = tax_revenue_change + benefit_savings\n",
    "ten_yr_diff = total_ubi - total_revenue_available\n",
    "\n",
    "print(f'Tax Revenue Change:{\" \" * 5} ${tax_revenue_change:,.2f}')\n",
    "print(f'Benefit Cost Savings:{\" \" * 3} ${benefit_savings:,.2f}')\n",
    "print(f'Total Available Revenue: ${total_revenue_available:,.2f}')\n",
    "print(f'Total UBI Cost:{\" \" * 9} ${total_ubi:,.2f}')\n",
    "print('-' * 47)\n",
    "print(f'Difference:{\" \" * 13} ${ten_yr_diff:,.2f}')"
   ]
  },
  {
   "cell_type": "code",
   "execution_count": 76,
   "metadata": {},
   "outputs": [],
   "source": [
    "# data for plotting\n",
    "tax_rev_series = ubi_df['combined'] - base_df['combined']\n",
    "benefit_savings_series = base_df['benefit_cost_total'] - ubi_df['benefit_cost_total']\n",
    "available_revenue = tax_rev_series + benefit_savings_series\n",
    "ten_yr_series = ubi_df['ubi'] - tax_rev_series - benefit_savings_series\n",
    "available_rev_cumsum = available_revenue.cumsum()\n",
    "cummulative_diff = ubi_df['ubi_cumsum'] - available_rev_cumsum\n",
    "\n",
    "cds = ColumnDataSource({'total_revenue_avail': available_revenue,\n",
    "                        'ubi_cost': ubi_df['ubi'],\n",
    "                        'tax_revenue_change': tax_rev_series,\n",
    "                        'benefit_savings': benefit_savings_series,\n",
    "                        'ten_yr_diff': ten_yr_series,\n",
    "                        'year': ubi_df['year'],\n",
    "                        'ubi_cumsum': ubi_df['ubi_cumsum'],\n",
    "                        'total_revenue_avail_cumsum': available_rev_cumsum,\n",
    "                        'cummulative_diff': cummulative_diff})"
   ]
  },
  {
   "cell_type": "code",
   "execution_count": 77,
   "metadata": {},
   "outputs": [
    {
     "data": {
      "text/html": [
       "\n",
       "<div class=\"bk-root\">\n",
       "    <div class=\"bk-plotdiv\" id=\"ceac0823-7268-453c-bf45-fc25d8232597\"></div>\n",
       "</div>"
      ]
     },
     "metadata": {},
     "output_type": "display_data"
    },
    {
     "data": {
      "application/javascript": [
       "(function(root) {\n",
       "  function embed_document(root) {\n",
       "    \n",
       "  var docs_json = {\"03cc2831-a033-4a3a-90e3-fdc199f5dfde\":{\"roots\":{\"references\":[{\"attributes\":{\"bottom_units\":\"screen\",\"fill_alpha\":{\"value\":0.5},\"fill_color\":{\"value\":\"lightgrey\"},\"left_units\":\"screen\",\"level\":\"overlay\",\"line_alpha\":{\"value\":1.0},\"line_color\":{\"value\":\"black\"},\"line_dash\":[4,4],\"line_width\":{\"value\":2},\"plot\":null,\"render_mode\":\"css\",\"right_units\":\"screen\",\"top_units\":\"screen\"},\"id\":\"4f123798-671b-45e8-82e8-94abb8bb29a5\",\"type\":\"BoxAnnotation\"},{\"attributes\":{},\"id\":\"6b8918fc-8b8a-4427-8567-2b8f079bc10f\",\"type\":\"LinearScale\"},{\"attributes\":{\"line_alpha\":0.1,\"line_color\":\"#1f77b4\",\"line_width\":2,\"x\":{\"field\":\"year\"},\"y\":{\"field\":\"total_revenue_avail\"}},\"id\":\"e2691292-4a31-4b49-9e19-3260d81dcbdf\",\"type\":\"Line\"},{\"attributes\":{},\"id\":\"bdcb3371-5610-426a-9884-7b57023c3020\",\"type\":\"BasicTicker\"},{\"attributes\":{\"formatter\":{\"id\":\"9a388eb7-1f1a-4b3c-a1c3-0b376d7f5b82\",\"type\":\"BasicTickFormatter\"},\"plot\":{\"id\":\"66c73f76-240a-4e89-b2d7-92b54b4cf164\",\"subtype\":\"Figure\",\"type\":\"Plot\"},\"ticker\":{\"id\":\"bdcb3371-5610-426a-9884-7b57023c3020\",\"type\":\"BasicTicker\"}},\"id\":\"ea3a099e-b5dd-4bb6-9fe6-e7900724edb5\",\"type\":\"LinearAxis\"},{\"attributes\":{\"plot\":null,\"text\":\"UBI Cost and Available Revenue\"},\"id\":\"7b4e7334-86fb-4e18-8d59-cc16d3b06168\",\"type\":\"Title\"},{\"attributes\":{},\"id\":\"fdc138b8-a203-4498-9255-8c00806e2079\",\"type\":\"BasicTicker\"},{\"attributes\":{\"label\":{\"value\":\"Available Revenue\"},\"renderers\":[{\"id\":\"dbc3fa6c-2a7b-4237-b147-f25fe84e8d91\",\"type\":\"GlyphRenderer\"}]},\"id\":\"fc42541a-6a01-4190-8426-4aee2b6d8eff\",\"type\":\"LegendItem\"},{\"attributes\":{},\"id\":\"01018d89-7294-4cd0-871c-1c95251cc635\",\"type\":\"SaveTool\"},{\"attributes\":{\"data_source\":{\"id\":\"c18223cb-9681-4e47-9f06-5fd531bb9409\",\"type\":\"ColumnDataSource\"},\"glyph\":{\"id\":\"64f991f0-c78e-4826-81d4-a91a59203367\",\"type\":\"Line\"},\"hover_glyph\":null,\"muted_glyph\":null,\"nonselection_glyph\":{\"id\":\"1bcdccff-f6eb-428d-a5ec-ac46d9918fbe\",\"type\":\"Line\"},\"selection_glyph\":null,\"view\":{\"id\":\"fd7fa204-8b63-4229-88a7-b4d1d73e6cd8\",\"type\":\"CDSView\"}},\"id\":\"4cfbf0de-ff0d-4594-83f7-7ef5544401f8\",\"type\":\"GlyphRenderer\"},{\"attributes\":{\"callback\":null},\"id\":\"b983f6de-bcb8-45a7-a25c-b5edbb42c7d4\",\"type\":\"DataRange1d\"},{\"attributes\":{\"items\":[{\"id\":\"fc42541a-6a01-4190-8426-4aee2b6d8eff\",\"type\":\"LegendItem\"},{\"id\":\"db431101-b53d-4404-9ae8-43d58ca5a499\",\"type\":\"LegendItem\"}],\"location\":\"top_left\",\"plot\":{\"id\":\"66c73f76-240a-4e89-b2d7-92b54b4cf164\",\"subtype\":\"Figure\",\"type\":\"Plot\"}},\"id\":\"5bd96d27-26c7-4726-aefe-55089167ed44\",\"type\":\"Legend\"},{\"attributes\":{\"source\":{\"id\":\"c18223cb-9681-4e47-9f06-5fd531bb9409\",\"type\":\"ColumnDataSource\"}},\"id\":\"4ceebb57-1db6-477e-b65e-c7987190ed22\",\"type\":\"CDSView\"},{\"attributes\":{\"source\":{\"id\":\"c18223cb-9681-4e47-9f06-5fd531bb9409\",\"type\":\"ColumnDataSource\"}},\"id\":\"fd7fa204-8b63-4229-88a7-b4d1d73e6cd8\",\"type\":\"CDSView\"},{\"attributes\":{},\"id\":\"9a388eb7-1f1a-4b3c-a1c3-0b376d7f5b82\",\"type\":\"BasicTickFormatter\"},{\"attributes\":{},\"id\":\"a9573914-add1-436f-aa4c-6d2cda39d915\",\"type\":\"PanTool\"},{\"attributes\":{\"below\":[{\"id\":\"ea3a099e-b5dd-4bb6-9fe6-e7900724edb5\",\"type\":\"LinearAxis\"}],\"left\":[{\"id\":\"e8370ac8-cdba-4c9c-8d1f-3c05585c8512\",\"type\":\"LinearAxis\"}],\"plot_height\":500,\"plot_width\":650,\"renderers\":[{\"id\":\"ea3a099e-b5dd-4bb6-9fe6-e7900724edb5\",\"type\":\"LinearAxis\"},{\"id\":\"92ca7e92-f50b-4ddd-862d-eb56e0815cc7\",\"type\":\"Grid\"},{\"id\":\"e8370ac8-cdba-4c9c-8d1f-3c05585c8512\",\"type\":\"LinearAxis\"},{\"id\":\"cafa6fa3-db5e-4c4b-adbc-4863526a2953\",\"type\":\"Grid\"},{\"id\":\"4f123798-671b-45e8-82e8-94abb8bb29a5\",\"type\":\"BoxAnnotation\"},{\"id\":\"5bd96d27-26c7-4726-aefe-55089167ed44\",\"type\":\"Legend\"},{\"id\":\"dbc3fa6c-2a7b-4237-b147-f25fe84e8d91\",\"type\":\"GlyphRenderer\"},{\"id\":\"4cfbf0de-ff0d-4594-83f7-7ef5544401f8\",\"type\":\"GlyphRenderer\"}],\"title\":{\"id\":\"7b4e7334-86fb-4e18-8d59-cc16d3b06168\",\"type\":\"Title\"},\"toolbar\":{\"id\":\"fe55b39b-a18a-4a45-8840-49435b19dccf\",\"type\":\"Toolbar\"},\"x_range\":{\"id\":\"446bc848-7c2e-4543-bff1-3faea7423c0b\",\"type\":\"DataRange1d\"},\"x_scale\":{\"id\":\"bb2fd912-76b9-4361-a4e0-34e2db27dd5d\",\"type\":\"LinearScale\"},\"y_range\":{\"id\":\"b983f6de-bcb8-45a7-a25c-b5edbb42c7d4\",\"type\":\"DataRange1d\"},\"y_scale\":{\"id\":\"6b8918fc-8b8a-4427-8567-2b8f079bc10f\",\"type\":\"LinearScale\"}},\"id\":\"66c73f76-240a-4e89-b2d7-92b54b4cf164\",\"subtype\":\"Figure\",\"type\":\"Plot\"},{\"attributes\":{\"line_alpha\":0.1,\"line_color\":\"#1f77b4\",\"line_width\":2,\"x\":{\"field\":\"year\"},\"y\":{\"field\":\"ubi_cost\"}},\"id\":\"1bcdccff-f6eb-428d-a5ec-ac46d9918fbe\",\"type\":\"Line\"},{\"attributes\":{\"line_color\":\"#1f77b4\",\"line_width\":2,\"x\":{\"field\":\"year\"},\"y\":{\"field\":\"total_revenue_avail\"}},\"id\":\"15e65004-9b8d-44e8-a703-fce33c92929d\",\"type\":\"Line\"},{\"attributes\":{\"data_source\":{\"id\":\"c18223cb-9681-4e47-9f06-5fd531bb9409\",\"type\":\"ColumnDataSource\"},\"glyph\":{\"id\":\"15e65004-9b8d-44e8-a703-fce33c92929d\",\"type\":\"Line\"},\"hover_glyph\":null,\"muted_glyph\":null,\"nonselection_glyph\":{\"id\":\"e2691292-4a31-4b49-9e19-3260d81dcbdf\",\"type\":\"Line\"},\"selection_glyph\":null,\"view\":{\"id\":\"4ceebb57-1db6-477e-b65e-c7987190ed22\",\"type\":\"CDSView\"}},\"id\":\"dbc3fa6c-2a7b-4237-b147-f25fe84e8d91\",\"type\":\"GlyphRenderer\"},{\"attributes\":{},\"id\":\"f7f6d97c-4244-4f84-9ae7-419831507ebc\",\"type\":\"HelpTool\"},{\"attributes\":{},\"id\":\"c8c6c5bd-c6b7-4a3e-8504-22a4ef3cfa38\",\"type\":\"WheelZoomTool\"},{\"attributes\":{\"callback\":null},\"id\":\"446bc848-7c2e-4543-bff1-3faea7423c0b\",\"type\":\"DataRange1d\"},{\"attributes\":{\"line_color\":\"red\",\"line_width\":2,\"x\":{\"field\":\"year\"},\"y\":{\"field\":\"ubi_cost\"}},\"id\":\"64f991f0-c78e-4826-81d4-a91a59203367\",\"type\":\"Line\"},{\"attributes\":{\"callback\":null,\"column_names\":[\"total_revenue_avail\",\"ubi_cost\",\"tax_revenue_change\",\"benefit_savings\",\"ten_yr_diff\",\"year\",\"ubi_cumsum\",\"total_revenue_avail_cumsum\",\"cummulative_diff\"],\"data\":{\"benefit_savings\":{\"__ndarray__\":\"LvwHtJh4g0Jb13zKeGuEQgqvu+CYU4VCUwx2N2ROhkKX64mgV1iHQm5HatpWdohCodHYP2ygiULz0zM/1NOKQis5JDguV4xCglKz9iEAjUI=\",\"dtype\":\"float64\",\"shape\":[10]},\"cummulative_diff\":{\"__ndarray__\":\"AAAAAHD7R8AAhlU+MoAjwgDTjtIQrzrCQIl76j4NSsLARXkRVEVWwsBGPp20NmHCIE3ymHrOaMJwJZkm/SBxwkA2nHyoN3zCkJF03XaQg8I=\",\"dtype\":\"float64\",\"shape\":[10]},\"tax_revenue_change\":{\"__ndarray__\":\"dP0jwBKecELq8ubAMzNxQoCuqohRz3FC9q8Owxp3ckLkKRnbdUxzQqKM660jBXRCtAoYgD7GdEKe30nNK7J1QkCpmLHFgntCpmywaOiXfEI=\",\"dtype\":\"float64\",\"shape\":[10]},\"ten_yr_diff\":{\"__ndarray__\":\"AAAAAHD7R8AAmPU9MoAjwkAQZLP37jDCID9oAm1rOcKQAnc4aX1CwpCPBlIqUEjCkBnQ7hdfTsKQ+39o/+ZSwpwhBqxWLWbC1NmZfIrSZcI=\",\"dtype\":\"float64\",\"shape\":[10]},\"total_revenue_avail\":{\"__ndarray__\":\"6PoZFKLHi0LQUPCqEgWNQkoGEaVBO45CTmT9mPGJj0JEQAtHSX+QQuAGsFh0PJFCfmvyv8UBkkLhYewSddaSQuZGeIhIDJVCasSFFQumlUI=\",\"dtype\":\"float64\",\"shape\":[10]},\"total_revenue_avail_cumsum\":{\"__ndarray__\":\"6PoZFKLHi0LcJYVfWmacQoDUBpn9waVClC1G/3mkrULb5mVRD/KyQpPokWcsQbdCcoOO153Bu0L1zSSOnTvAQtLWM58m3cJCX4/kAeiRxUI=\",\"dtype\":\"float64\",\"shape\":[10]},\"ubi_cost\":{\"__ndarray__\":\"MXsYFKLHi0JwevjhEbeMQsjldefJs41CVSLqMJa+jkJgEI/6u9aPQmPSHwbzeZBCsep7AM0OkUIoYmQcBaiRQrKC97KdRpJCMInyxbnrkkI=\",\"dtype\":\"float64\",\"shape\":[10]},\"ubi_cumsum\":{\"__ndarray__\":\"MXsYFKLHi0LQegj7WT+cQtq2YXefjKVCbz+cA0U8rULEASAB+piyQl32p8J2t7ZCCfHGAir7ukKTCeBJK2W/QiD1Tltp+8FCRkYNlOBYxEI=\",\"dtype\":\"float64\",\"shape\":[10]},\"year\":[2018,2019,2020,2021,2022,2023,2024,2025,2026,2027]}},\"id\":\"c18223cb-9681-4e47-9f06-5fd531bb9409\",\"type\":\"ColumnDataSource\"},{\"attributes\":{\"overlay\":{\"id\":\"4f123798-671b-45e8-82e8-94abb8bb29a5\",\"type\":\"BoxAnnotation\"}},\"id\":\"de401326-17a7-43ec-ace7-b59b36708a54\",\"type\":\"BoxZoomTool\"},{\"attributes\":{\"formatter\":{\"id\":\"753cd4d1-370a-4bbb-bb13-52ceb41bb045\",\"type\":\"NumeralTickFormatter\"},\"plot\":{\"id\":\"66c73f76-240a-4e89-b2d7-92b54b4cf164\",\"subtype\":\"Figure\",\"type\":\"Plot\"},\"ticker\":{\"id\":\"fdc138b8-a203-4498-9255-8c00806e2079\",\"type\":\"BasicTicker\"}},\"id\":\"e8370ac8-cdba-4c9c-8d1f-3c05585c8512\",\"type\":\"LinearAxis\"},{\"attributes\":{},\"id\":\"bb2fd912-76b9-4361-a4e0-34e2db27dd5d\",\"type\":\"LinearScale\"},{\"attributes\":{\"dimension\":1,\"plot\":{\"id\":\"66c73f76-240a-4e89-b2d7-92b54b4cf164\",\"subtype\":\"Figure\",\"type\":\"Plot\"},\"ticker\":{\"id\":\"fdc138b8-a203-4498-9255-8c00806e2079\",\"type\":\"BasicTicker\"}},\"id\":\"cafa6fa3-db5e-4c4b-adbc-4863526a2953\",\"type\":\"Grid\"},{\"attributes\":{\"plot\":{\"id\":\"66c73f76-240a-4e89-b2d7-92b54b4cf164\",\"subtype\":\"Figure\",\"type\":\"Plot\"},\"ticker\":{\"id\":\"bdcb3371-5610-426a-9884-7b57023c3020\",\"type\":\"BasicTicker\"}},\"id\":\"92ca7e92-f50b-4ddd-862d-eb56e0815cc7\",\"type\":\"Grid\"},{\"attributes\":{\"active_drag\":\"auto\",\"active_inspect\":\"auto\",\"active_scroll\":\"auto\",\"active_tap\":\"auto\",\"tools\":[{\"id\":\"a9573914-add1-436f-aa4c-6d2cda39d915\",\"type\":\"PanTool\"},{\"id\":\"c8c6c5bd-c6b7-4a3e-8504-22a4ef3cfa38\",\"type\":\"WheelZoomTool\"},{\"id\":\"de401326-17a7-43ec-ace7-b59b36708a54\",\"type\":\"BoxZoomTool\"},{\"id\":\"01018d89-7294-4cd0-871c-1c95251cc635\",\"type\":\"SaveTool\"},{\"id\":\"352110c7-2eec-4f39-98e6-0bcf07d1c8b2\",\"type\":\"ResetTool\"},{\"id\":\"f7f6d97c-4244-4f84-9ae7-419831507ebc\",\"type\":\"HelpTool\"}]},\"id\":\"fe55b39b-a18a-4a45-8840-49435b19dccf\",\"type\":\"Toolbar\"},{\"attributes\":{\"format\":\"$0.00a\"},\"id\":\"753cd4d1-370a-4bbb-bb13-52ceb41bb045\",\"type\":\"NumeralTickFormatter\"},{\"attributes\":{},\"id\":\"352110c7-2eec-4f39-98e6-0bcf07d1c8b2\",\"type\":\"ResetTool\"},{\"attributes\":{\"label\":{\"value\":\"UBI Cost\"},\"renderers\":[{\"id\":\"4cfbf0de-ff0d-4594-83f7-7ef5544401f8\",\"type\":\"GlyphRenderer\"}]},\"id\":\"db431101-b53d-4404-9ae8-43d58ca5a499\",\"type\":\"LegendItem\"}],\"root_ids\":[\"66c73f76-240a-4e89-b2d7-92b54b4cf164\"]},\"title\":\"Bokeh Application\",\"version\":\"0.12.14\"}};\n",
       "  var render_items = [{\"docid\":\"03cc2831-a033-4a3a-90e3-fdc199f5dfde\",\"elementid\":\"ceac0823-7268-453c-bf45-fc25d8232597\",\"modelid\":\"66c73f76-240a-4e89-b2d7-92b54b4cf164\"}];\n",
       "  root.Bokeh.embed.embed_items_notebook(docs_json, render_items);\n",
       "\n",
       "  }\n",
       "  if (root.Bokeh !== undefined) {\n",
       "    embed_document(root);\n",
       "  } else {\n",
       "    var attempts = 0;\n",
       "    var timer = setInterval(function(root) {\n",
       "      if (root.Bokeh !== undefined) {\n",
       "        embed_document(root);\n",
       "        clearInterval(timer);\n",
       "      }\n",
       "      attempts++;\n",
       "      if (attempts > 100) {\n",
       "        console.log(\"Bokeh: ERROR: Unable to run BokehJS code because BokehJS library is missing\")\n",
       "        clearInterval(timer);\n",
       "      }\n",
       "    }, 10, root)\n",
       "  }\n",
       "})(window);"
      ],
      "application/vnd.bokehjs_exec.v0+json": ""
     },
     "metadata": {
      "application/vnd.bokehjs_exec.v0+json": {
       "id": "66c73f76-240a-4e89-b2d7-92b54b4cf164"
      }
     },
     "output_type": "display_data"
    }
   ],
   "source": [
    "f = figure(title='UBI Cost and Available Revenue',\n",
    "           width=650, height=500, x_range=DataRange1d())\n",
    "f.line(x='year', y='total_revenue_avail', line_width=2, legend='Available Revenue', source=cds)\n",
    "f.line(x='year', y='ubi_cost', color='red', line_width=2, legend='UBI Cost', source=cds)\n",
    "f.yaxis[0].formatter = NumeralTickFormatter(format='$0.00a')\n",
    "f.legend.location = 'top_left'\n",
    "show(f)"
   ]
  },
  {
   "cell_type": "markdown",
   "metadata": {},
   "source": [
    "# Ten-Year Budget Neutrality"
   ]
  },
  {
   "cell_type": "code",
   "execution_count": 79,
   "metadata": {},
   "outputs": [
    {
     "name": "stdout",
     "output_type": "stream",
     "text": [
      "-2688899438986.914\n",
      "Entered Loop\n",
      "Iterations: 25\n"
     ]
    }
   ],
   "source": [
    "ubi_18_tenyr, ubi_u18_tenyr = helpers.ten_year(params, 13004.11, start_yr, end_yr, 2000000)"
   ]
  },
  {
   "cell_type": "code",
   "execution_count": 80,
   "metadata": {},
   "outputs": [
    {
     "name": "stdout",
     "output_type": "stream",
     "text": [
      "10-Year Budget Neutral UBI Amounts:\n",
      "\t Those under 18: $6,991.82\n",
      "\t Those above 18: $13,983.64\n"
     ]
    }
   ],
   "source": [
    "print('10-Year Budget Neutral UBI Amounts:')\n",
    "print(f'\\t Those under 18: ${ubi_u18_tenyr:,.2f}')\n",
    "print(f'\\t Those above 18: ${ubi_18_tenyr:,.2f}')"
   ]
  },
  {
   "cell_type": "code",
   "execution_count": 81,
   "metadata": {},
   "outputs": [],
   "source": [
    "end_time = time.time()"
   ]
  },
  {
   "cell_type": "code",
   "execution_count": 82,
   "metadata": {},
   "outputs": [
    {
     "data": {
      "text/plain": [
       "25.81267048517863"
      ]
     },
     "execution_count": 82,
     "metadata": {},
     "output_type": "execute_result"
    }
   ],
   "source": [
    "(end_time - start_time) / 60"
   ]
  },
  {
   "cell_type": "code",
   "execution_count": 83,
   "metadata": {},
   "outputs": [
    {
     "name": "stdout",
     "output_type": "stream",
     "text": [
      "You loaded data for 2014.\n",
      "Tax-Calculator startup automatically extrapolated your data to 2014.\n"
     ]
    }
   ],
   "source": [
    "# Calculator with 10-year budget neutral UBI\n",
    "rec_final = tc.Records.cps_constructor()\n",
    "pol_final = tc.Policy()\n",
    "pol_final.implement_reform(params['policy'])\n",
    "ubi_final = {\n",
    "    start_yr: {\n",
    "        '_UBI_u18': [ubi_u18_tenyr],\n",
    "        '_UBI_1820': [ubi_18_tenyr],\n",
    "        '_UBI_21': [ubi_18_tenyr]\n",
    "    }\n",
    "}\n",
    "pol_final.implement_reform(ubi_final)\n",
    "calc_final = tc.Calculator(records=rec_final, policy=pol_final)"
   ]
  },
  {
   "cell_type": "markdown",
   "metadata": {},
   "source": [
    "## Revenue Effects"
   ]
  },
  {
   "cell_type": "code",
   "execution_count": 84,
   "metadata": {},
   "outputs": [],
   "source": [
    "# collect variables for the final calculator\n",
    "final_dict = {'year': [], 'ubi': [], 'combined': [],\n",
    "              'benefit_cost_total': [], 'benefit_value_total': []}\n",
    "for year in range(start_yr, end_yr + 1):\n",
    "    final_dict['year'].append(year)\n",
    "    calc_final.advance_to_year(year)\n",
    "    calc_final.calc_all()\n",
    "    for var in var_list:\n",
    "        final_dict[var].append(calc_final.weighted_total(var))"
   ]
  },
  {
   "cell_type": "code",
   "execution_count": 85,
   "metadata": {},
   "outputs": [],
   "source": [
    "final_df = pd.DataFrame(final_dict)"
   ]
  },
  {
   "cell_type": "code",
   "execution_count": 86,
   "metadata": {},
   "outputs": [
    {
     "name": "stdout",
     "output_type": "stream",
     "text": [
      "Tax Revenue Change:      $14,974,094,699,227.16\n",
      "Benefit Cost Savings:    $33,140,130,705,886.39\n",
      "Total Available Revenue: $48,114,225,405,113.55\n",
      "Total UBI Cost:          $48,114,223,439,314.21\n",
      "-----------------------------------------------\n",
      "Difference:                      $-1,965,799.34\n"
     ]
    }
   ],
   "source": [
    "total_ubi_final = final_df['ubi'].sum()\n",
    "tax_revenue_change_final = final_df['combined'].sum() - base_df['combined'].sum()\n",
    "benefit_savings_final = base_df['benefit_cost_total'].sum() - final_df['benefit_cost_total'].sum()\n",
    "total_revenue_available_final = tax_revenue_change_final + benefit_savings_final\n",
    "ten_yr_diff_final = total_ubi_final - total_revenue_available_final\n",
    "\n",
    "print(f'Tax Revenue Change:{\" \" * 5} ${tax_revenue_change_final:,.2f}')\n",
    "print(f'Benefit Cost Savings:{\" \" * 3} ${benefit_savings_final:,.2f}')\n",
    "print(f'Total Available Revenue: ${total_revenue_available_final:,.2f}')\n",
    "print(f'Total UBI Cost:{\" \" * 9} ${total_ubi_final:,.2f}')\n",
    "print('-' * 47)\n",
    "print(f'Difference:{\" \" * 21} ${ten_yr_diff_final:,.2f}')"
   ]
  },
  {
   "cell_type": "code",
   "execution_count": 87,
   "metadata": {},
   "outputs": [],
   "source": [
    "# format data for plotting\n",
    "tax_rev_series_final = final_df['combined'] - base_df['combined']\n",
    "benefit_savings_series_final = base_df['benefit_cost_total'] - final_df['benefit_cost_total']\n",
    "available_revenue_final = tax_rev_series_final + benefit_savings_series_final\n",
    "ten_yr_series_final = final_df['ubi'] - tax_rev_series_final - benefit_savings_series_final\n",
    "available_rev_cumsum_final = available_revenue_final.cumsum()\n",
    "\n",
    "cds_final = ColumnDataSource({'total_revenue_avail': available_revenue_final,\n",
    "                              'ubi_cost': final_df['ubi'],\n",
    "                              'tax_revenue_change': tax_rev_series_final,\n",
    "                              'benefit_savings': benefit_savings_series_final,\n",
    "                              'ten_yr_diff': ten_yr_series_final,\n",
    "                              'year': final_df['year'],\n",
    "                              'total_revenue_avail_cumsum': available_rev_cumsum_final})"
   ]
  },
  {
   "cell_type": "code",
   "execution_count": 88,
   "metadata": {},
   "outputs": [
    {
     "data": {
      "text/html": [
       "\n",
       "<div class=\"bk-root\">\n",
       "    <div class=\"bk-plotdiv\" id=\"ea53726e-e7cb-4cba-b191-a8b7b23868cf\"></div>\n",
       "</div>"
      ]
     },
     "metadata": {},
     "output_type": "display_data"
    },
    {
     "data": {
      "application/javascript": [
       "(function(root) {\n",
       "  function embed_document(root) {\n",
       "    \n",
       "  var docs_json = {\"d939c1aa-e5e6-4373-bc6e-54af94f9efc0\":{\"roots\":{\"references\":[{\"attributes\":{\"source\":{\"id\":\"dc01b85e-bb8e-4bf2-ac07-29847595b98d\",\"type\":\"ColumnDataSource\"}},\"id\":\"6cd068b9-9249-4af7-8acc-8da9f7e6e48b\",\"type\":\"CDSView\"},{\"attributes\":{\"overlay\":{\"id\":\"61dbbff5-1611-4743-b447-ecfd3d246da0\",\"type\":\"BoxAnnotation\"}},\"id\":\"1952dc78-feb9-4362-8e48-9f08f3d911a7\",\"type\":\"BoxZoomTool\"},{\"attributes\":{\"data_source\":{\"id\":\"dc01b85e-bb8e-4bf2-ac07-29847595b98d\",\"type\":\"ColumnDataSource\"},\"glyph\":{\"id\":\"a8cbcabf-678d-4c6b-943f-3f2c7c23fe39\",\"type\":\"Line\"},\"hover_glyph\":null,\"muted_glyph\":null,\"nonselection_glyph\":{\"id\":\"dbe05b8a-bea4-47af-aba1-7c4f0425c761\",\"type\":\"Line\"},\"selection_glyph\":null,\"view\":{\"id\":\"6cd068b9-9249-4af7-8acc-8da9f7e6e48b\",\"type\":\"CDSView\"}},\"id\":\"80c9d685-ba15-4cb3-9b10-406890a4fef7\",\"type\":\"GlyphRenderer\"},{\"attributes\":{\"plot\":{\"id\":\"2b59d98a-d457-4dd5-a1d6-1a7ddd951c8c\",\"subtype\":\"Figure\",\"type\":\"Plot\"},\"ticker\":{\"id\":\"dfaefb02-ba2b-4338-8c1f-53046c065f8f\",\"type\":\"BasicTicker\"}},\"id\":\"9f811cb0-70d5-4508-911a-d53f90b78141\",\"type\":\"Grid\"},{\"attributes\":{\"formatter\":{\"id\":\"0048dc4b-23d3-4274-b686-c49b624a7711\",\"type\":\"NumeralTickFormatter\"},\"plot\":{\"id\":\"2b59d98a-d457-4dd5-a1d6-1a7ddd951c8c\",\"subtype\":\"Figure\",\"type\":\"Plot\"},\"ticker\":{\"id\":\"68d3bd9a-d208-43b1-a3ae-1648ee1a9c06\",\"type\":\"BasicTicker\"}},\"id\":\"5574f50c-7e3f-45a8-a1f2-810b0c0cbb66\",\"type\":\"LinearAxis\"},{\"attributes\":{\"dimension\":1,\"plot\":{\"id\":\"2b59d98a-d457-4dd5-a1d6-1a7ddd951c8c\",\"subtype\":\"Figure\",\"type\":\"Plot\"},\"ticker\":{\"id\":\"68d3bd9a-d208-43b1-a3ae-1648ee1a9c06\",\"type\":\"BasicTicker\"}},\"id\":\"269b5a2c-98ec-4241-8781-ea6f311e6f71\",\"type\":\"Grid\"},{\"attributes\":{\"line_alpha\":0.1,\"line_color\":\"#1f77b4\",\"line_width\":2,\"x\":{\"field\":\"year\"},\"y\":{\"field\":\"total_revenue_avail\"}},\"id\":\"b3dd8f0a-e702-4747-aa00-0ad02e88ef77\",\"type\":\"Line\"},{\"attributes\":{\"data_source\":{\"id\":\"dc01b85e-bb8e-4bf2-ac07-29847595b98d\",\"type\":\"ColumnDataSource\"},\"glyph\":{\"id\":\"82535217-5404-40af-a2f8-cdcb1ae99b2c\",\"type\":\"Line\"},\"hover_glyph\":null,\"muted_glyph\":null,\"nonselection_glyph\":{\"id\":\"b3dd8f0a-e702-4747-aa00-0ad02e88ef77\",\"type\":\"Line\"},\"selection_glyph\":null,\"view\":{\"id\":\"58aaaccb-b4b5-418d-8a3f-a350dc35473a\",\"type\":\"CDSView\"}},\"id\":\"6f4aa111-5c63-4941-a003-4244bd998f36\",\"type\":\"GlyphRenderer\"},{\"attributes\":{\"formatter\":{\"id\":\"57685e57-a9c9-4784-89d8-3bc540157f9f\",\"type\":\"BasicTickFormatter\"},\"plot\":{\"id\":\"2b59d98a-d457-4dd5-a1d6-1a7ddd951c8c\",\"subtype\":\"Figure\",\"type\":\"Plot\"},\"ticker\":{\"id\":\"dfaefb02-ba2b-4338-8c1f-53046c065f8f\",\"type\":\"BasicTicker\"}},\"id\":\"5ad7aa05-6b88-4f4f-bef0-5f2b25e86df2\",\"type\":\"LinearAxis\"},{\"attributes\":{\"below\":[{\"id\":\"5ad7aa05-6b88-4f4f-bef0-5f2b25e86df2\",\"type\":\"LinearAxis\"}],\"left\":[{\"id\":\"5574f50c-7e3f-45a8-a1f2-810b0c0cbb66\",\"type\":\"LinearAxis\"}],\"plot_height\":500,\"plot_width\":650,\"renderers\":[{\"id\":\"5ad7aa05-6b88-4f4f-bef0-5f2b25e86df2\",\"type\":\"LinearAxis\"},{\"id\":\"9f811cb0-70d5-4508-911a-d53f90b78141\",\"type\":\"Grid\"},{\"id\":\"5574f50c-7e3f-45a8-a1f2-810b0c0cbb66\",\"type\":\"LinearAxis\"},{\"id\":\"269b5a2c-98ec-4241-8781-ea6f311e6f71\",\"type\":\"Grid\"},{\"id\":\"61dbbff5-1611-4743-b447-ecfd3d246da0\",\"type\":\"BoxAnnotation\"},{\"id\":\"3a3f8363-dfea-4059-93e5-1938579d00d0\",\"type\":\"Legend\"},{\"id\":\"6f4aa111-5c63-4941-a003-4244bd998f36\",\"type\":\"GlyphRenderer\"},{\"id\":\"80c9d685-ba15-4cb3-9b10-406890a4fef7\",\"type\":\"GlyphRenderer\"}],\"title\":{\"id\":\"b425ff2a-8114-4cc3-b04a-10aebd034e10\",\"type\":\"Title\"},\"toolbar\":{\"id\":\"7ae38123-91d9-4144-a320-d7c2dc206886\",\"type\":\"Toolbar\"},\"x_range\":{\"id\":\"802ab216-bf2b-47bd-8ff6-4835ba1a135b\",\"type\":\"DataRange1d\"},\"x_scale\":{\"id\":\"b0849c55-1f30-4f96-90bd-055c08a8bffb\",\"type\":\"LinearScale\"},\"y_range\":{\"id\":\"2efe1917-7183-4a34-b269-82121d095ea4\",\"type\":\"DataRange1d\"},\"y_scale\":{\"id\":\"53f8b830-0487-4ab2-9013-c104e3124426\",\"type\":\"LinearScale\"}},\"id\":\"2b59d98a-d457-4dd5-a1d6-1a7ddd951c8c\",\"subtype\":\"Figure\",\"type\":\"Plot\"},{\"attributes\":{},\"id\":\"dfaefb02-ba2b-4338-8c1f-53046c065f8f\",\"type\":\"BasicTicker\"},{\"attributes\":{\"label\":{\"value\":\"Available Revenue\"},\"renderers\":[{\"id\":\"6f4aa111-5c63-4941-a003-4244bd998f36\",\"type\":\"GlyphRenderer\"}]},\"id\":\"f29239d1-cba3-4e9f-8d5b-f960da0b1d07\",\"type\":\"LegendItem\"},{\"attributes\":{\"label\":{\"value\":\"UBI Cost\"},\"renderers\":[{\"id\":\"80c9d685-ba15-4cb3-9b10-406890a4fef7\",\"type\":\"GlyphRenderer\"}]},\"id\":\"c9ae915a-1b4a-40de-9ff2-e2fbf0d157cb\",\"type\":\"LegendItem\"},{\"attributes\":{},\"id\":\"57685e57-a9c9-4784-89d8-3bc540157f9f\",\"type\":\"BasicTickFormatter\"},{\"attributes\":{\"plot\":null,\"text\":\"UBI Cost and Available Revenue\"},\"id\":\"b425ff2a-8114-4cc3-b04a-10aebd034e10\",\"type\":\"Title\"},{\"attributes\":{\"active_drag\":\"auto\",\"active_inspect\":\"auto\",\"active_scroll\":\"auto\",\"active_tap\":\"auto\",\"tools\":[{\"id\":\"267d6435-92ef-4dfd-bcbb-52d991886eff\",\"type\":\"PanTool\"},{\"id\":\"7c280c22-ef92-464e-8bbf-b93048295a9a\",\"type\":\"WheelZoomTool\"},{\"id\":\"1952dc78-feb9-4362-8e48-9f08f3d911a7\",\"type\":\"BoxZoomTool\"},{\"id\":\"85e95415-256a-43bf-9bce-eea69b32fcf5\",\"type\":\"SaveTool\"},{\"id\":\"6219d698-e6da-474e-9a45-72c9490fa16f\",\"type\":\"ResetTool\"},{\"id\":\"464d23d1-ad5f-4d2c-88ad-14e1d9161b27\",\"type\":\"HelpTool\"}]},\"id\":\"7ae38123-91d9-4144-a320-d7c2dc206886\",\"type\":\"Toolbar\"},{\"attributes\":{},\"id\":\"464d23d1-ad5f-4d2c-88ad-14e1d9161b27\",\"type\":\"HelpTool\"},{\"attributes\":{},\"id\":\"b0849c55-1f30-4f96-90bd-055c08a8bffb\",\"type\":\"LinearScale\"},{\"attributes\":{},\"id\":\"267d6435-92ef-4dfd-bcbb-52d991886eff\",\"type\":\"PanTool\"},{\"attributes\":{\"format\":\"$0.00a\"},\"id\":\"0048dc4b-23d3-4274-b686-c49b624a7711\",\"type\":\"NumeralTickFormatter\"},{\"attributes\":{\"source\":{\"id\":\"dc01b85e-bb8e-4bf2-ac07-29847595b98d\",\"type\":\"ColumnDataSource\"}},\"id\":\"58aaaccb-b4b5-418d-8a3f-a350dc35473a\",\"type\":\"CDSView\"},{\"attributes\":{},\"id\":\"7c280c22-ef92-464e-8bbf-b93048295a9a\",\"type\":\"WheelZoomTool\"},{\"attributes\":{},\"id\":\"53f8b830-0487-4ab2-9013-c104e3124426\",\"type\":\"LinearScale\"},{\"attributes\":{\"callback\":null},\"id\":\"802ab216-bf2b-47bd-8ff6-4835ba1a135b\",\"type\":\"DataRange1d\"},{\"attributes\":{\"bottom_units\":\"screen\",\"fill_alpha\":{\"value\":0.5},\"fill_color\":{\"value\":\"lightgrey\"},\"left_units\":\"screen\",\"level\":\"overlay\",\"line_alpha\":{\"value\":1.0},\"line_color\":{\"value\":\"black\"},\"line_dash\":[4,4],\"line_width\":{\"value\":2},\"plot\":null,\"render_mode\":\"css\",\"right_units\":\"screen\",\"top_units\":\"screen\"},\"id\":\"61dbbff5-1611-4743-b447-ecfd3d246da0\",\"type\":\"BoxAnnotation\"},{\"attributes\":{\"line_color\":\"#1f77b4\",\"line_width\":2,\"x\":{\"field\":\"year\"},\"y\":{\"field\":\"total_revenue_avail\"}},\"id\":\"82535217-5404-40af-a2f8-cdcb1ae99b2c\",\"type\":\"Line\"},{\"attributes\":{},\"id\":\"68d3bd9a-d208-43b1-a3ae-1648ee1a9c06\",\"type\":\"BasicTicker\"},{\"attributes\":{\"items\":[{\"id\":\"f29239d1-cba3-4e9f-8d5b-f960da0b1d07\",\"type\":\"LegendItem\"},{\"id\":\"c9ae915a-1b4a-40de-9ff2-e2fbf0d157cb\",\"type\":\"LegendItem\"}],\"location\":\"top_left\",\"plot\":{\"id\":\"2b59d98a-d457-4dd5-a1d6-1a7ddd951c8c\",\"subtype\":\"Figure\",\"type\":\"Plot\"}},\"id\":\"3a3f8363-dfea-4059-93e5-1938579d00d0\",\"type\":\"Legend\"},{\"attributes\":{\"callback\":null,\"column_names\":[\"total_revenue_avail\",\"ubi_cost\",\"tax_revenue_change\",\"benefit_savings\",\"ten_yr_diff\",\"year\",\"total_revenue_avail_cumsum\"],\"data\":{\"benefit_savings\":{\"__ndarray__\":\"LvwHtJh4g0Jb13zKeGuEQgqvu+CYU4VCUwx2N2ROhkKX64mgV1iHQm5HatpWdohCodHYP2ygiULz0zM/1NOKQis5JDguV4xCglKz9iEAjUI=\",\"dtype\":\"float64\",\"shape\":[10]},\"tax_revenue_change\":{\"__ndarray__\":\"bpt2iB1tcULUi4vRnQlyQqyk1FdnrXJCov8ws19dc0JSHWbXeTt0QvoraT4A/XRCmFr/vWnHdUI+mKX5FL12QiQD/+idw3xC2qcya8DkfUI=\",\"dtype\":\"float64\",\"shape\":[10]},\"ten_yr_diff\":{\"__ndarray__\":\"MIoF0IoCS0IQ9zrDFAhHQtAJHELaY0RCwJahMrclQUJA7kikWNM4QkAlXr4Xny5CgHKkHlCpFUIALNoGTLIcwmjSh0puV1vCWLmLG9sKWsI=\",\"dtype\":\"float64\",\"shape\":[10]},\"total_revenue_avail\":{\"__ndarray__\":\"5UlDeCcvjEJFnUKzR3CNQmABpoxMqo5CJIwOERT9j0IgfR5GCruQQrZuz3xrepFCdj9sjxBCkkIJUANeLxmTQl7dUZZ+XJVCOFMmFkH5lUI=\",\"dtype\":\"float64\",\"shape\":[10]},\"total_revenue_avail_cumsum\":{\"__ndarray__\":\"5UlDeCcvjEKV88KVt8+cQiL6Cu5uEqZCK51O8rMRrkLe7a6KnDezQozJ4mk3lrdCatm9jbsmvEK2Vp+yg3bAQmKSaYUTIsNCyVwuqDvhxUI=\",\"dtype\":\"float64\",\"shape\":[10]},\"ubi_cost\":{\"__ndarray__\":\"iKJDJVDfjUK2THb/yOCOQv3BxzCK8I9CyFIcwreHkELZoK+oVx6RQgArTKypt5FC6eOK37lXkkLddfwRffySQjhgqbEHp5NCopdtZJNYlEI=\",\"dtype\":\"float64\",\"shape\":[10]},\"year\":[2018,2019,2020,2021,2022,2023,2024,2025,2026,2027]}},\"id\":\"dc01b85e-bb8e-4bf2-ac07-29847595b98d\",\"type\":\"ColumnDataSource\"},{\"attributes\":{\"line_alpha\":0.1,\"line_color\":\"#1f77b4\",\"line_width\":2,\"x\":{\"field\":\"year\"},\"y\":{\"field\":\"ubi_cost\"}},\"id\":\"dbe05b8a-bea4-47af-aba1-7c4f0425c761\",\"type\":\"Line\"},{\"attributes\":{},\"id\":\"85e95415-256a-43bf-9bce-eea69b32fcf5\",\"type\":\"SaveTool\"},{\"attributes\":{\"callback\":null},\"id\":\"2efe1917-7183-4a34-b269-82121d095ea4\",\"type\":\"DataRange1d\"},{\"attributes\":{},\"id\":\"6219d698-e6da-474e-9a45-72c9490fa16f\",\"type\":\"ResetTool\"},{\"attributes\":{\"line_color\":\"red\",\"line_width\":2,\"x\":{\"field\":\"year\"},\"y\":{\"field\":\"ubi_cost\"}},\"id\":\"a8cbcabf-678d-4c6b-943f-3f2c7c23fe39\",\"type\":\"Line\"}],\"root_ids\":[\"2b59d98a-d457-4dd5-a1d6-1a7ddd951c8c\"]},\"title\":\"Bokeh Application\",\"version\":\"0.12.14\"}};\n",
       "  var render_items = [{\"docid\":\"d939c1aa-e5e6-4373-bc6e-54af94f9efc0\",\"elementid\":\"ea53726e-e7cb-4cba-b191-a8b7b23868cf\",\"modelid\":\"2b59d98a-d457-4dd5-a1d6-1a7ddd951c8c\"}];\n",
       "  root.Bokeh.embed.embed_items_notebook(docs_json, render_items);\n",
       "\n",
       "  }\n",
       "  if (root.Bokeh !== undefined) {\n",
       "    embed_document(root);\n",
       "  } else {\n",
       "    var attempts = 0;\n",
       "    var timer = setInterval(function(root) {\n",
       "      if (root.Bokeh !== undefined) {\n",
       "        embed_document(root);\n",
       "        clearInterval(timer);\n",
       "      }\n",
       "      attempts++;\n",
       "      if (attempts > 100) {\n",
       "        console.log(\"Bokeh: ERROR: Unable to run BokehJS code because BokehJS library is missing\")\n",
       "        clearInterval(timer);\n",
       "      }\n",
       "    }, 10, root)\n",
       "  }\n",
       "})(window);"
      ],
      "application/vnd.bokehjs_exec.v0+json": ""
     },
     "metadata": {
      "application/vnd.bokehjs_exec.v0+json": {
       "id": "2b59d98a-d457-4dd5-a1d6-1a7ddd951c8c"
      }
     },
     "output_type": "display_data"
    }
   ],
   "source": [
    "f = figure(title='UBI Cost and Available Revenue',\n",
    "           width=650, height=500, x_range=DataRange1d())\n",
    "f.line(x='year', y='total_revenue_avail', line_width=2, legend='Available Revenue', source=cds_final)\n",
    "f.line(x='year', y='ubi_cost', color='red', line_width=2, legend='UBI Cost', source=cds_final)\n",
    "f.yaxis[0].formatter = NumeralTickFormatter(format='$0.00a')\n",
    "f.legend.location = 'top_left'\n",
    "show(f)"
   ]
  },
  {
   "cell_type": "code",
   "execution_count": 90,
   "metadata": {},
   "outputs": [
    {
     "data": {
      "text/plain": [
       "'0.16.2'"
      ]
     },
     "execution_count": 90,
     "metadata": {},
     "output_type": "execute_result"
    }
   ],
   "source": [
    "tc.__version__"
   ]
  },
  {
   "cell_type": "code",
   "execution_count": null,
   "metadata": {},
   "outputs": [],
   "source": []
  }
 ],
 "metadata": {
  "kernelspec": {
   "display_name": "Python [conda env:ubipaper]",
   "language": "python",
   "name": "conda-env-ubipaper-py"
  },
  "language_info": {
   "codemirror_mode": {
    "name": "ipython",
    "version": 3
   },
   "file_extension": ".py",
   "mimetype": "text/x-python",
   "name": "python",
   "nbconvert_exporter": "python",
   "pygments_lexer": "ipython3",
   "version": "3.6.4"
  }
 },
 "nbformat": 4,
 "nbformat_minor": 2
}
